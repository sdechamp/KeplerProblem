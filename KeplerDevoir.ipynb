{
 "cells": [
  {
   "cell_type": "markdown",
   "metadata": {},
   "source": [
    "# Kepler et Runge-Kutta 4\n",
    "## Travail personnel 1, MATH-F-314, Année académique 2017-2018\n",
    "## Contexte\n",
    "Sous l'effet de la force de pesanteur, deux masses $m_1$ et $m_2$ s'attirent avec des forces mutuellement opposées selon la loi de Newton:\n",
    "$${\\bf F}_{1,2}=-{\\bf F}_{2,1}=-\\frac{Gm_1 m_2{\\bf r}}{r^3}$$\n",
    "\n",
    "Dans l'expression des forces, ${\\bf r}$ est le vecteur qui relie le centre de $m_2$ à celui de $m_1$ et $G=6.67408\\cdot 10^{-11} {\\rm m^3 kg^{−1}s^{−2}}$.\n",
    "Si les deux masses ne sont sommises qu'à ces forces de pesanteur, leur mouvement relatif sera une section de conique (ellipse, parabole ou hyperbole) dont la nature dépendra des conditions initiales. Dans le cas du système Terre-Lune, celle-ci est une ellipse dont l'équation est:\n",
    "\n",
    "$$r(\\theta)=\\frac{r_{min}(1+\\epsilon)}{1+\\epsilon \\cos\\theta}.$$\n",
    "\n",
    "Dans l'équation ci-dessus, $r_{min}$ est la distance minimale Terre-Lune (périgée) et $\\epsilon$ est l'excentricité de l'orbite. Ici on prendra,\n",
    "$$r_{min}=362600 {\\rm km} \\\\ \\epsilon = 0.0549006 \\\\ m_{\\rm terre}=5.972\\cdot 10^{24} {\\rm kg} \\\\ m_{\\rm lune}=7.348\\cdot 10^{22} {\\rm kg}$$\n",
    "Par ailleurs, on indique qu'au périgée de la trajectoire, la lune se déplace par rapport à la terre à une vitesse de $1083.434974 {\\rm ms^{-1}}$."
   ]
  },
  {
   "cell_type": "markdown",
   "metadata": {},
   "source": [
    "# Questions\n",
    "\n",
    "### Question 1: résoudre les équations du mouvement sous l'effet des forces de pesanteur décrites ci-dessus et montrer que la trajectoire est bien une ellispe avec la bonne excentricité. Indice: placez-vous directement dans le repère attaché à la Terre et écrivez l'équation d'évolution pour ${\\bf r}$.\n",
    "La résolution numérique du problème doit se faire avec la méthode numérique 'Runge-Kutta 4' que vous trouverez ici:\n",
    "https://en.wikipedia.org/wiki/Runge–Kutta_methods#The_Runge.E2.80.93Kutta_method\n",
    "et les résultats présentés doivent être obtenus avec un pas de temps de $dt=1s$.Questions\n"
   ]
  },
  {
   "cell_type": "markdown",
   "metadata": {},
   "source": [
    "Pour résoudre les équations du mouvement nous nous plaçons dans le repère du centre de masse.\n",
    "\n",
    "${\\bf Xt}$=vecteur centre de masse-terre\n",
    "\n",
    "${\\bf Xl}$=vecteur centre de masse-lune\n",
    "\n",
    "Mt=masse de la terre\n",
    "\n",
    "ml=masse de la lune\n",
    "\n",
    "${\\bf r}$=veceur terre-lune\n",
    "\n",
    "$${\\bf Xt}=\\frac{Mt}{Mt+ml}{\\bf r}$$\n",
    "\n",
    "$${\\bf Xl}=\\frac{Ml}{Mt+ml}{\\bf r}$$\n",
    "\n",
    "$${\\bf r}={\\bf Xl}-{\\bf Xt}$$\n",
    "\n",
    "$$\\ddot{\\bf r}=\\ddot{\\bf Xl}-\\ddot{\\bf Xt}$$\n",
    "\n",
    "Avec ces équations nous pouvons écrire les équations du mouvement pour la trajectoire de la lune \n",
    "\n",
    "$$\\ddot{\\bf Xt}=\\frac{GMl\\bf r}{r³}$$\n",
    "\n",
    "$$\\ddot{\\bf Xl}=\\frac{-GMt\\bf r}{r³}$$\n",
    "\n",
    "$$\\ddot{\\bf Xl}-\\ddot{\\bf Xt}=\\frac{-GMt\\bf r}{r³}-\\frac{-GMl\\bf r}{r³}$$\n",
    "\n",
    "$$\\ddot{\\bf r}=\\frac{-G\\bf r}{r³}(Mt+ml)$$\n",
    "\n",
    "nous avons donc \n",
    "\n",
    "$$\\ddot{x}=\\frac{-Gx(Mt+ml)}{(x²+y²)^(3/2)}$$\n",
    "\n",
    "$$\\ddot{y}=\\frac{-Gy(Mt+ml)}{(x²+y²)^(3/2)}$$\n",
    "\n",
    "\n",
    "\n",
    "\n",
    "\n",
    "\n"
   ]
  },
  {
   "cell_type": "markdown",
   "metadata": {},
   "source": [
    "Nous allons maintenant résoudre numériquement le problème avec la méthode de Runge-Kutta 4 trouverée ici: https://en.wikipedia.org/wiki/Runge–Kutta_methods#The_Runge.E2.80.93Kutta_method\n",
    "\n",
    "Comme Runge-Kutta résoud des équations du type  \n",
    "$$u' = h(t, u)$$ \n",
    "$$u(t_0) = u_0$$ \n",
    "\n",
    "Nous devons ramenez notre probème du 2eme ordre en 2 problème du 1er ordre \n",
    "\n",
    "$${\\bf u}=\\begin{pmatrix}x \\\\vx \\\\y \\\\vy\\end{pmatrix}$$ ; $${h(u)}=\\begin{pmatrix}vx \\\\ \\frac{-G x (Mt + ml)}{(x² + y²)^(3/2)} \\\\vy \\\\ \\frac{-G y (Mt + ml)}{(x² + y²)^(3/2)}\\end{pmatrix}$$\n",
    "\n",
    "avec,\n",
    "x=coordonnée\n",
    "\n",
    "vx=vitesse en x \n",
    "\n",
    "y=coordonnée\n",
    "\n",
    "vy=vitesse en y\n",
    "\n",
    "Avec ces équations pour ${\\bf u}$ et ${\\bf h(u)}$ nous pouvons utiliser Runge-Kutta et résoudre les équations  \n",
    "\n",
    "\n",
    "\n",
    "\n",
    "\n"
   ]
  },
  {
   "cell_type": "code",
   "execution_count": 83,
   "metadata": {
    "collapsed": true
   },
   "outputs": [],
   "source": [
    "# we load the libraries\n",
    "from math import log, ceil, pi\n",
    "import numpy\n",
    "from matplotlib import pyplot\n",
    "import matplotlib.pyplot as plt\n",
    "%matplotlib inline\n",
    "from matplotlib import rcParams\n",
    "from matplotlib import animation \n",
    "from IPython.display import HTML\n",
    "rcParams['font.family'] = 'serif'\n",
    "rcParams['font.size'] = 16"
   ]
  },
  {
   "cell_type": "markdown",
   "metadata": {},
   "source": [
    "Nous mettons en place les différents paramètre et condition initiale que nous allons utiliser "
   ]
  },
  {
   "cell_type": "code",
   "execution_count": 84,
   "metadata": {
    "collapsed": true
   },
   "outputs": [],
   "source": [
    "x_0=-362600000 #[m]\n",
    "y_0=0\n",
    "vx_0=0\n",
    "vy_0=1083.438974 #[m/s]\n",
    "\n",
    "c=6.67408*10**(-11)*(5.972*10**24+7.348*10**22)\n"
   ]
  },
  {
   "cell_type": "markdown",
   "metadata": {},
   "source": [
    "Nous définissons maintenant une fonction f(u) qui correspond à la fonction h(u) ci dessus "
   ]
  },
  {
   "cell_type": "code",
   "execution_count": 85,
   "metadata": {
    "collapsed": true
   },
   "outputs": [],
   "source": [
    "def f(u):\n",
    "    \n",
    "    x = u[0]\n",
    "    vx = u[1]\n",
    "    y = u[2]\n",
    "    vy = u[3]\n",
    "    return numpy.array([vx, \n",
    "                        -c*x/(x*x+y*y)**(3/2), \n",
    "                        vy, \n",
    "                        -c*y/(x*x+y*y)**(3/2)])"
   ]
  },
  {
   "cell_type": "markdown",
   "metadata": {},
   "source": [
    "Nous définissons maintenant la fonction Runge-Kutta "
   ]
  },
  {
   "cell_type": "code",
   "execution_count": 86,
   "metadata": {
    "collapsed": true
   },
   "outputs": [],
   "source": [
    "def RK4(f,u,dt) :\n",
    "    u_1=f(u)\n",
    "    u_2=f(u+u_1*dt/2)\n",
    "    u_3=f(u+u_2*dt/2)\n",
    "    u_4=f(u+u_3*dt)\n",
    "    \n",
    "    \n",
    "    \n",
    "    return u+(dt/6)*(u_1+2*u_2+2*u_3+u_4)"
   ]
  },
  {
   "cell_type": "markdown",
   "metadata": {},
   "source": [
    "Après avoir définis les paramètres, conditions initiales, f(u) et RK4 "
   ]
  },
  {
   "cell_type": "code",
   "execution_count": 87,
   "metadata": {
    "collapsed": false
   },
   "outputs": [
    {
     "data": {
      "image/png": "[encoded data removed]",
      "text/plain": [
       "<matplotlib.figure.Figure at 0x7fb658a9e208>"
      ]
     },
     "metadata": {},
     "output_type": "display_data"
    }
   ],
   "source": [
    "T=2400000  # Temps calculé en s\n",
    "dt= 1      # pas de temps en s\n",
    "N=int(T/dt+1) # nombre d'itérations\n",
    "u_rk=numpy.empty((N,4)) #initialise la liste de longueur NN de dim 4\n",
    "u_rk[0]   = numpy.array([x_0, vx_0, y_0, vy_0]) # implémente les valeurs initiales  dans la liste\n",
    "for i in range(N-1):   # Calcule les valeurs (x,vx,y,vy) à l'aide de la méthode de Runge-Kutta d'ordre 4\n",
    "    u_rk[i+1]=RK4(f, u_rk[i],dt)\n",
    "x=u_rk[:,0]\n",
    "y=u_rk[:,2]\n",
    "vx=u_rk[:,1]\n",
    "vy=u_rk[:,3]\n",
    "plt.xlabel(r'x(m)', fontsize=18)\n",
    "plt.ylabel(r'y(m)', fontsize=18)\n",
    "plt.title('Evolution de la trajectoire de la lune', fontsize=13)\n",
    "plt.plot(x,y)\n",
    "plt.show()\n",
    "plt.close()"
   ]
  },
  {
   "cell_type": "code",
   "execution_count": null,
   "metadata": {
    "collapsed": true
   },
   "outputs": [],
   "source": []
  },
  {
   "cell_type": "markdown",
   "metadata": {},
   "source": [
    "Nous allons maintenant calculer l'excentriciter pour ce faire nous utilisons l'équation \n",
    "\n",
    "$$r(\\theta)=\\frac{r_{min}(1+\\epsilon)}{1+\\epsilon \\cos\\theta}.$$\n",
    "\n",
    "Nous prenons  $\\theta$ = 180° et donc  $r(\\theta)$ = $r_{max}$\n",
    "\n",
    "$$\\frac{r_{max}-r_{min}}{r_{max}+r_{min}}=\\epsilon$$\n",
    "\n",
    "Nous avons donc \n"
   ]
  },
  {
   "cell_type": "code",
   "execution_count": 46,
   "metadata": {
    "collapsed": false
   },
   "outputs": [
    {
     "name": "stdout",
     "output_type": "stream",
     "text": [
      "Є = 0.0549078188737\n"
     ]
    }
   ],
   "source": [
    "q=(max(x)-362600000)/(max(x)+362600000)\n",
    "print(\"Є =\",q)  "
   ]
  },
  {
   "cell_type": "markdown",
   "metadata": {},
   "source": [
    "### Question 6: animation des trajectoires"
   ]
  },
  {
   "cell_type": "markdown",
   "metadata": {},
   "source": [
    "   \n",
    "nous implémentons un graphe vide aux échelles souhaitées et ajoutons des axes, ensuite nous crééons une ligne qui évoluera à chaque itération. comme la commande ax.plot peut retourné plusieurs valeurs nous écrivons [0] de manière à être sûr qu'elle nous renvoit une ligne, la ligne \"0\". \n"
   ]
  },
  {
   "cell_type": "code",
   "execution_count": 47,
   "metadata": {
    "collapsed": false
   },
   "outputs": [
    {
     "data": {
      "image/png": "[encoded data removed]",
      "text/plain": [
       "<matplotlib.figure.Figure at 0x7fb658f89b38>"
      ]
     },
     "metadata": {},
     "output_type": "display_data"
    }
   ],
   "source": [
    "fig = pyplot.figure(figsize=(8,5))\n",
    "ax = pyplot.axes(xlim=(-4e8,4e8), ylim=(-4e8,4e8))\n",
    "line = ax.plot([], [], color='#003366', ls='-', lw=3)[0]"
   ]
  },
  {
   "cell_type": "markdown",
   "metadata": {},
   "source": [
    "Cette fonction est créé de manière à incrémenté les données de la ligne des solutions à chaque itération. "
   ]
  },
  {
   "cell_type": "code",
   "execution_count": 48,
   "metadata": {
    "collapsed": true
   },
   "outputs": [],
   "source": [
    "def RK4_data1(data) :\n",
    "    u_rk[i,0]\n",
    "    u_rk[i,2]\n",
    "    \n",
    "    line.set_data(u_rk[i,0],u_rk[i,2])\n",
    "    return line\n"
   ]
  },
  {
   "cell_type": "markdown",
   "metadata": {},
   "source": [
    "Nous sauvegardons l'animation sous le nom de anim qui a pour argument le nom du graphique, la fonction, le nombre d'images, le temps d'apparition de l'image en ms."
   ]
  },
  {
   "cell_type": "code",
   "execution_count": 49,
   "metadata": {
    "collapsed": true
   },
   "outputs": [],
   "source": [
    "anim = animation.FuncAnimation(fig, RK4_data1,\n",
    "                               frames=4000, interval=1)"
   ]
  },
  {
   "cell_type": "markdown",
   "metadata": {},
   "source": [
    "On utilise HTML que l'on a importé et html5_video() pour la rendre compatible avec le web."
   ]
  },
  {
   "cell_type": "code",
   "execution_count": 50,
   "metadata": {
    "collapsed": false
   },
   "outputs": [
    {
     "ename": "BrokenPipeError",
     "evalue": "[Errno 32] Broken pipe",
     "output_type": "error",
     "traceback": [
      "\u001b[1;31m---------------------------------------------------------------------------\u001b[0m",
      "\u001b[1;31mBrokenPipeError\u001b[0m                           Traceback (most recent call last)",
      "\u001b[1;32m<ipython-input-50-5114ccf53b4c>\u001b[0m in \u001b[0;36m<module>\u001b[1;34m()\u001b[0m\n\u001b[1;32m----> 1\u001b[1;33m \u001b[0mHTML\u001b[0m\u001b[1;33m(\u001b[0m\u001b[0manim\u001b[0m\u001b[1;33m.\u001b[0m\u001b[0mto_html5_video\u001b[0m\u001b[1;33m(\u001b[0m\u001b[1;33m)\u001b[0m\u001b[1;33m)\u001b[0m\u001b[1;33m\u001b[0m\u001b[0m\n\u001b[0m",
      "\u001b[1;32m/serveur/logiciels/anaconda3/lib/python3.4/site-packages/matplotlib/animation.py\u001b[0m in \u001b[0;36mto_html5_video\u001b[1;34m(self)\u001b[0m\n\u001b[0;32m    953\u001b[0m                                 \u001b[0mbitrate\u001b[0m\u001b[1;33m=\u001b[0m\u001b[0mrcParams\u001b[0m\u001b[1;33m[\u001b[0m\u001b[1;34m'animation.bitrate'\u001b[0m\u001b[1;33m]\u001b[0m\u001b[1;33m,\u001b[0m\u001b[1;33m\u001b[0m\u001b[0m\n\u001b[0;32m    954\u001b[0m                                 fps=1000. / self._interval)\n\u001b[1;32m--> 955\u001b[1;33m                 \u001b[0mself\u001b[0m\u001b[1;33m.\u001b[0m\u001b[0msave\u001b[0m\u001b[1;33m(\u001b[0m\u001b[0mf\u001b[0m\u001b[1;33m.\u001b[0m\u001b[0mname\u001b[0m\u001b[1;33m,\u001b[0m \u001b[0mwriter\u001b[0m\u001b[1;33m=\u001b[0m\u001b[0mwriter\u001b[0m\u001b[1;33m)\u001b[0m\u001b[1;33m\u001b[0m\u001b[0m\n\u001b[0m\u001b[0;32m    956\u001b[0m \u001b[1;33m\u001b[0m\u001b[0m\n\u001b[0;32m    957\u001b[0m             \u001b[1;31m# Now open and base64 encode\u001b[0m\u001b[1;33m\u001b[0m\u001b[1;33m\u001b[0m\u001b[0m\n",
      "\u001b[1;32m/serveur/logiciels/anaconda3/lib/python3.4/site-packages/matplotlib/animation.py\u001b[0m in \u001b[0;36msave\u001b[1;34m(self, filename, writer, fps, dpi, codec, bitrate, extra_args, metadata, extra_anim, savefig_kwargs)\u001b[0m\n\u001b[0;32m    808\u001b[0m                     \u001b[1;31m# TODO: Need to see if turning off blit is really necessary\u001b[0m\u001b[1;33m\u001b[0m\u001b[1;33m\u001b[0m\u001b[0m\n\u001b[0;32m    809\u001b[0m                     \u001b[0manim\u001b[0m\u001b[1;33m.\u001b[0m\u001b[0m_draw_next_frame\u001b[0m\u001b[1;33m(\u001b[0m\u001b[0md\u001b[0m\u001b[1;33m,\u001b[0m \u001b[0mblit\u001b[0m\u001b[1;33m=\u001b[0m\u001b[1;32mFalse\u001b[0m\u001b[1;33m)\u001b[0m\u001b[1;33m\u001b[0m\u001b[0m\n\u001b[1;32m--> 810\u001b[1;33m                 \u001b[0mwriter\u001b[0m\u001b[1;33m.\u001b[0m\u001b[0mgrab_frame\u001b[0m\u001b[1;33m(\u001b[0m\u001b[1;33m**\u001b[0m\u001b[0msavefig_kwargs\u001b[0m\u001b[1;33m)\u001b[0m\u001b[1;33m\u001b[0m\u001b[0m\n\u001b[0m\u001b[0;32m    811\u001b[0m \u001b[1;33m\u001b[0m\u001b[0m\n\u001b[0;32m    812\u001b[0m         \u001b[1;31m# Reconnect signal for first draw if necessary\u001b[0m\u001b[1;33m\u001b[0m\u001b[1;33m\u001b[0m\u001b[0m\n",
      "\u001b[1;32m/serveur/logiciels/anaconda3/lib/python3.4/site-packages/matplotlib/animation.py\u001b[0m in \u001b[0;36mgrab_frame\u001b[1;34m(self, **savefig_kwargs)\u001b[0m\n\u001b[0;32m    228\u001b[0m             \u001b[1;31m# frame format and dpi.\u001b[0m\u001b[1;33m\u001b[0m\u001b[1;33m\u001b[0m\u001b[0m\n\u001b[0;32m    229\u001b[0m             self.fig.savefig(self._frame_sink(), format=self.frame_format,\n\u001b[1;32m--> 230\u001b[1;33m                              dpi=self.dpi, **savefig_kwargs)\n\u001b[0m\u001b[0;32m    231\u001b[0m         \u001b[1;32mexcept\u001b[0m \u001b[0mRuntimeError\u001b[0m\u001b[1;33m:\u001b[0m\u001b[1;33m\u001b[0m\u001b[0m\n\u001b[0;32m    232\u001b[0m             \u001b[0mout\u001b[0m\u001b[1;33m,\u001b[0m \u001b[0merr\u001b[0m \u001b[1;33m=\u001b[0m \u001b[0mself\u001b[0m\u001b[1;33m.\u001b[0m\u001b[0m_proc\u001b[0m\u001b[1;33m.\u001b[0m\u001b[0mcommunicate\u001b[0m\u001b[1;33m(\u001b[0m\u001b[1;33m)\u001b[0m\u001b[1;33m\u001b[0m\u001b[0m\n",
      "\u001b[1;32m/serveur/logiciels/anaconda3/lib/python3.4/site-packages/matplotlib/figure.py\u001b[0m in \u001b[0;36msavefig\u001b[1;34m(self, *args, **kwargs)\u001b[0m\n\u001b[0;32m   1563\u001b[0m             \u001b[0mself\u001b[0m\u001b[1;33m.\u001b[0m\u001b[0mset_frameon\u001b[0m\u001b[1;33m(\u001b[0m\u001b[0mframeon\u001b[0m\u001b[1;33m)\u001b[0m\u001b[1;33m\u001b[0m\u001b[0m\n\u001b[0;32m   1564\u001b[0m \u001b[1;33m\u001b[0m\u001b[0m\n\u001b[1;32m-> 1565\u001b[1;33m         \u001b[0mself\u001b[0m\u001b[1;33m.\u001b[0m\u001b[0mcanvas\u001b[0m\u001b[1;33m.\u001b[0m\u001b[0mprint_figure\u001b[0m\u001b[1;33m(\u001b[0m\u001b[1;33m*\u001b[0m\u001b[0margs\u001b[0m\u001b[1;33m,\u001b[0m \u001b[1;33m**\u001b[0m\u001b[0mkwargs\u001b[0m\u001b[1;33m)\u001b[0m\u001b[1;33m\u001b[0m\u001b[0m\n\u001b[0m\u001b[0;32m   1566\u001b[0m \u001b[1;33m\u001b[0m\u001b[0m\n\u001b[0;32m   1567\u001b[0m         \u001b[1;32mif\u001b[0m \u001b[0mframeon\u001b[0m\u001b[1;33m:\u001b[0m\u001b[1;33m\u001b[0m\u001b[0m\n",
      "\u001b[1;32m/serveur/logiciels/anaconda3/lib/python3.4/site-packages/matplotlib/backend_bases.py\u001b[0m in \u001b[0;36mprint_figure\u001b[1;34m(self, filename, dpi, facecolor, edgecolor, orientation, format, **kwargs)\u001b[0m\n\u001b[0;32m   2230\u001b[0m                 \u001b[0morientation\u001b[0m\u001b[1;33m=\u001b[0m\u001b[0morientation\u001b[0m\u001b[1;33m,\u001b[0m\u001b[1;33m\u001b[0m\u001b[0m\n\u001b[0;32m   2231\u001b[0m                 \u001b[0mbbox_inches_restore\u001b[0m\u001b[1;33m=\u001b[0m\u001b[0m_bbox_inches_restore\u001b[0m\u001b[1;33m,\u001b[0m\u001b[1;33m\u001b[0m\u001b[0m\n\u001b[1;32m-> 2232\u001b[1;33m                 **kwargs)\n\u001b[0m\u001b[0;32m   2233\u001b[0m         \u001b[1;32mfinally\u001b[0m\u001b[1;33m:\u001b[0m\u001b[1;33m\u001b[0m\u001b[0m\n\u001b[0;32m   2234\u001b[0m             \u001b[1;32mif\u001b[0m \u001b[0mbbox_inches\u001b[0m \u001b[1;32mand\u001b[0m \u001b[0mrestore_bbox\u001b[0m\u001b[1;33m:\u001b[0m\u001b[1;33m\u001b[0m\u001b[0m\n",
      "\u001b[1;32m/serveur/logiciels/anaconda3/lib/python3.4/site-packages/matplotlib/backends/backend_agg.py\u001b[0m in \u001b[0;36mprint_raw\u001b[1;34m(self, filename_or_obj, *args, **kwargs)\u001b[0m\n\u001b[0;32m    517\u001b[0m             \u001b[0mclose\u001b[0m \u001b[1;33m=\u001b[0m \u001b[1;32mFalse\u001b[0m\u001b[1;33m\u001b[0m\u001b[0m\n\u001b[0;32m    518\u001b[0m         \u001b[1;32mtry\u001b[0m\u001b[1;33m:\u001b[0m\u001b[1;33m\u001b[0m\u001b[0m\n\u001b[1;32m--> 519\u001b[1;33m             \u001b[0mfileobj\u001b[0m\u001b[1;33m.\u001b[0m\u001b[0mwrite\u001b[0m\u001b[1;33m(\u001b[0m\u001b[0mrenderer\u001b[0m\u001b[1;33m.\u001b[0m\u001b[0m_renderer\u001b[0m\u001b[1;33m.\u001b[0m\u001b[0mbuffer_rgba\u001b[0m\u001b[1;33m(\u001b[0m\u001b[1;33m)\u001b[0m\u001b[1;33m)\u001b[0m\u001b[1;33m\u001b[0m\u001b[0m\n\u001b[0m\u001b[0;32m    520\u001b[0m         \u001b[1;32mfinally\u001b[0m\u001b[1;33m:\u001b[0m\u001b[1;33m\u001b[0m\u001b[0m\n\u001b[0;32m    521\u001b[0m             \u001b[1;32mif\u001b[0m \u001b[0mclose\u001b[0m\u001b[1;33m:\u001b[0m\u001b[1;33m\u001b[0m\u001b[0m\n",
      "\u001b[1;31mBrokenPipeError\u001b[0m: [Errno 32] Broken pipe"
     ]
    }
   ],
   "source": [
    "HTML(anim.to_html5_video())"
   ]
  },
  {
   "cell_type": "markdown",
   "metadata": {},
   "source": [
    "Nous avons remarqué que calculer l'animation prenait trop de temps, pour remédier à cela nous avons décider de prendre au maximum 3000 frames et de manière à obtenir toute la trajectoire, il faut que les données calculer par anim soit à chaque fois la 8000* i ème itération pour l'évolution de la trajectoire de la Lune autour de la Terre\n",
    "\n",
    "Cependant nous n'avons pas réussi à finaliser l'animation "
   ]
  },
  {
   "cell_type": "markdown",
   "metadata": {},
   "source": [
    "### Question 2: que vaut le demi grand axe a et le demi petit axe b selon vos calculs?"
   ]
  },
  {
   "cell_type": "markdown",
   "metadata": {},
   "source": [
    "a = $\\frac{|r_{min}| + |r_{max}|}{2}$ = demi grand axe\n",
    "\n",
    "b = $|y_{max}|$ = demi petit axe "
   ]
  },
  {
   "cell_type": "code",
   "execution_count": 40,
   "metadata": {
    "collapsed": false
   },
   "outputs": [
    {
     "name": "stdout",
     "output_type": "stream",
     "text": [
      "demi grand axe a = 383666278.529 m\n",
      "demi petit axe b = 383087490.255 m\n"
     ]
    }
   ],
   "source": [
    "rmin=-362600000\n",
    "rmax=max(x)\n",
    "ymax=max(y)\n",
    "\n",
    "aa=(abs(rmin)+abs(rmax))/2\n",
    "bb=abs(max(y))\n",
    "\n",
    "print(\"demi grand axe a =\",aa ,\"m\")\n",
    "print(\"demi petit axe b =\",bb,\"m\")\n"
   ]
  },
  {
   "cell_type": "markdown",
   "metadata": {
    "collapsed": true
   },
   "source": [
    "### Question 3: que vaut la période de l'orbite?"
   ]
  },
  {
   "cell_type": "markdown",
   "metadata": {},
   "source": [
    "Grace à la 2eme loi de Képler, nous pouvons trouver la période de l'orbite en calculant le temps que met la lune pour atteindre l'apogée de sa trajectoir et en le multipliant par 2 "
   ]
  },
  {
   "cell_type": "markdown",
   "metadata": {},
   "source": [
    "On cherche apres combien de pas on atteint l'apogée, donc apres combien de seconde on atteint l'apogée car dt=1s"
   ]
  },
  {
   "cell_type": "code",
   "execution_count": 7,
   "metadata": {
    "collapsed": false
   },
   "outputs": [
    {
     "name": "stdout",
     "output_type": "stream",
     "text": [
      "(array([1175355]),)\n"
     ]
    }
   ],
   "source": [
    "print(numpy.where(x == max(x))) "
   ]
  },
  {
   "cell_type": "code",
   "execution_count": 12,
   "metadata": {
    "collapsed": false
   },
   "outputs": [
    {
     "name": "stdout",
     "output_type": "stream",
     "text": [
      "Période de l'orbite = 2350710 secondes\n",
      "Période de l'orbite = 27.207291666666666 jours\n"
     ]
    }
   ],
   "source": [
    "PP = 2*1175355\n",
    "PPJ = (((PP/60)/60))/24\n",
    "print(\"Période de l'orbite =\",PP,\"secondes\")\n",
    "print(\"Période de l'orbite =\",PPJ, \"jours\")"
   ]
  },
  {
   "cell_type": "markdown",
   "metadata": {},
   "source": [
    "# Equations du mouvement théorique\n",
    "\n",
    "Nous avons comme informations qu'il s'agit d'un système entre deux objets de masse $$m_{L}  et  m_{T}$$ qui a pour seul intéraction un potentiel gravitationnel entre les deux corps que l'on peut écrire comme:\n",
    "\n",
    "$$ U(r)=-\\frac{k}{r}$$\n",
    "\n",
    "qui peut être réecrit comme:\n",
    "$$ U_{eff}=-\\frac{k}{r} + \\frac{L^{2}}{2µr^{2}}$$ où\n",
    "$$µ= \\frac{m_{L}m_{T}}{m_{L}+m_{T}}$$\n",
    "$$k=\\textit{G}m_{L}m_{T}$$\n",
    "\n",
    "\n",
    "étant donné qu'il s'agit d'un système où k>0 on sait que l'énergie $$E \\le 0$$ on sait dès lors que le mouvement sera borné, et donc $$r_{p} \\le r \\le r_{a} $$ \n",
    "\n",
    "remarquons que si l'on dérive u en fonction de $$\\theta$$ où $$u=\\frac{1}{r}$$ on obtient: \n",
    "\n",
    "$$\\frac{du}{d\\theta} = -\\frac{1}{r^{2}}\\frac{dr}{\\theta} = \\frac{1}{r^2}\\frac{\\frac{dr}{dt}}{\\frac{d\\theta}{dt}} = -\\frac{µ}{L}\\frac{dr}{dt} $$car $$\\frac{d\\theta}{dt} = \\frac{L}{µr^{2}}$$ selon la Loi des aires qui provient du fait que le mouvement cinétique L est une constante du mouvement.\n",
    "\n",
    "Et donc l'énergie du mouvement relatif peut s'écrire comme :\n",
    "\n",
    "$$E = \\frac{L^{2}}{2µ}(\\frac{du}{d\\theta})^{2} -ku +\\frac{L^{2}}{2µ}u^{2}$$\n",
    "\n",
    "$$<=> (\\frac{du}{d\\theta})^{2} + (u-\\frac{µk}{L^{2}})^{2} = \\frac{2µE}{L^{2}} + \\frac{(µk)^{2}}{L^{4}}$$\n",
    "\n",
    "dérivons encore une fois par rapport $$\\theta$$:\n",
    "\n",
    "$$\\frac{d^{2}u}{d\\theta^{2}}= \\frac{µk}{L^{2}} - u$$\n",
    "\n",
    "$$<=> u=\\frac{µk}{L^{2}}(1+\\epsilon cos(\\theta-\\theta_{0}))$$ \n",
    "\n",
    "$$<=>r(1+\\epsilon cos(\\theta - \\theta_{0}))= \\frac{µk}{L^{2}}^{-1}$$ \n",
    "\n",
    "de plus $$r_{min}(1+\\epsilon)= \\frac{µk}{L^{2}}$$\n",
    "\n",
    "$$ <=> r=\\frac{r_{min}(1+\\epsilon)}{1+\\epsilon cos(\\theta - \\theta_{0}}  $$\n",
    "\n",
    "Remarquons maintenant qu'il suffit de se mettre en coordonnées (x,y) et faire un changement de variable pour obtenir l'équation d'une éllipse centrée.\n",
    "\n",
    "$$\\left\\{\n",
    "\\begin{array}{r c l}\n",
    " x&=& rcos(\\theta-\\theta_{0}) \\\\\n",
    " y&=&rsin(\\theta - \\theta_{0}) \\\\\n",
    " x'&=& x +\\frac{\\epsilon L^{2}}{µk(1 - \\epsilon^{2})}\n",
    " y'&=& y\n",
    "\\end{array}\n",
    "\\right. $$ \n",
    "\n",
    "\n",
    "On obtient alors: \n",
    "\n",
    "$$\\frac{x'^{2}}{a^{2}} + \\frac{y'^{2}}{b^{2}} = 1 $$ \n",
    "\n",
    "où le demi grand axe est : \n",
    "\n",
    "$$ a = \\frac{L^{2}}{µk(1-\\epsilon^{2})}$$\n",
    "\n",
    "le demi petit axe est:\n",
    "\n",
    "$$ b= a\\sqrt{1-\\epsilon^{2}}$$\n",
    "\n",
    "étant donné les valeurs initiales données dans l'énoncé du travail:\n",
    "\n",
    "$$r_{min}= -362600000 m$$\n",
    "$$\\epsilon= 0.0549006$$\n",
    "$$ => L^{2} = r_{min}(1+ \\epsilon)µk$$\n",
    "\n",
    "Pour trouver la révolution de la lune autour de la Terre nous remarquons que la 2ème loi de Kepler qui nous dit que l'aire balayée de l'éllipse par le vecteur radial croît proportionnellement au temps.\n",
    "Donc sachant que:\n",
    "\n",
    "$$ \\frac{dS}{dt} = \\frac{L}{2µ} $$\n",
    "\n",
    "on peut transformer cette équation en : \n",
    "$$ \\frac{S}{T} = \\frac{L}{2µ} $$\n",
    "$$ <=> T = \\frac{2µS}{L}$$ où \n",
    "$$S = \\pi ab = \\pi a^{2}\\sqrt{1- \\epsilon^{2}}$$\n",
    "$$<=> T = \\frac{2µ\\pi a^{2} \\sqrt{1-\\epsilon^{2}}}{L} $$\n"
   ]
  },
  {
   "cell_type": "code",
   "execution_count": 65,
   "metadata": {
    "collapsed": false
   },
   "outputs": [
    {
     "name": "stdout",
     "output_type": "stream",
     "text": [
      "le grand axe théorique est 383663348.0033952 m\n",
      "le petit axe théorique est 383084716.44280225 m\n",
      "La révolution est 2350683.930189676 s\n"
     ]
    }
   ],
   "source": [
    "rm=-362600000\n",
    "e=0.0549006\n",
    "mt=5.972*10**24\n",
    "ml= 7.348*10**22\n",
    "G=6.67408*10**(-11)\n",
    "µ=(mt*ml)/(mt+ml)\n",
    "k=G*mt*ml\n",
    "L2=abs(rm)*(1+e)*µ*k\n",
    "a=L2/(µ*k*(1-e**2))\n",
    "b=a*(1-e**2)**(1/2)\n",
    "T= 2*µ*pi*a**2*(1-e**2)**(1/2)/(L2**(1/2))\n",
    "print('le grand axe théorique est',a,\"m\")\n",
    "print('le petit axe théorique est', b,\"m\")\n",
    "print('La révolution est', T,\"s\")\n"
   ]
  },
  {
   "cell_type": "markdown",
   "metadata": {},
   "source": [
    "### Question 4: quel est l'ordre de la méthode numérique utilisée (faite une représentation graphique comme celle discutée dans les modules du cours)?"
   ]
  },
  {
   "cell_type": "markdown",
   "metadata": {},
   "source": [
    "On va étudier la convergence de la méthode de Rung-Kutta pour la trajectoire de la lune \n",
    "\n",
    "Nous allons prendre une séquence de solutions numériques du même problème, chacune avec un nombre différent de points de grille temporelle (dt_values)"
   ]
  },
  {
   "cell_type": "code",
   "execution_count": 72,
   "metadata": {
    "collapsed": true
   },
   "outputs": [],
   "source": [
    "dt_values = numpy.array([50, 10, 5, 2, 1])\n",
    "\n",
    "u_values = numpy.empty_like(dt_values, dtype=numpy.ndarray)\n",
    "\n",
    "for i, dt in enumerate(dt_values):\n",
    "    \n",
    "    N = int(T/dt) + 1    # nombre d'itération \n",
    "\n",
    "    u = numpy.empty((N, 4)) #initialise la liste de longueur N de dim 4\n",
    "    u[0] = numpy.array([x_0, vx_0, y_0, vy_0]) # implémente les valeurs initiales  dans la liste\n",
    "\n",
    "\n",
    "    for n in range(N-1):\n",
    "       \n",
    "        u[n+1] = RK4(f, u[n],  dt)   ### call RK4 ###\n",
    "    \n",
    "    u_values[i] = u"
   ]
  },
  {
   "cell_type": "markdown",
   "metadata": {},
   "source": [
    "Nous définisons maintenant une fonction pour obtenir les différences entre les grilles les plus grossières et les plus fines"
   ]
  },
  {
   "cell_type": "code",
   "execution_count": 74,
   "metadata": {
    "collapsed": true
   },
   "outputs": [],
   "source": [
    "def get_diffgrid(u_current, u_fine, dt):\n",
    "    \n",
    "    \n",
    "    N_current = len(u_current[:,0])\n",
    "    N_fine = len(u_fine[:,0])\n",
    "   \n",
    "    grid_size_ratio = ceil(N_fine/N_current)\n",
    "    \n",
    "    diffgrid = dt * numpy.sum( numpy.abs(\\\n",
    "            u_current[:,2]- u_fine[::grid_size_ratio,2])) \n",
    "    \n",
    "    return diffgrid"
   ]
  },
  {
   "cell_type": "markdown",
   "metadata": {},
   "source": [
    "Maintenant que notre fonction est définie calculons les différences de grille pour chaque solution"
   ]
  },
  {
   "cell_type": "code",
   "execution_count": 75,
   "metadata": {
    "collapsed": false
   },
   "outputs": [
    {
     "name": "stdout",
     "output_type": "stream",
     "text": [
      "dt = 50\n",
      "dt = 10\n",
      "dt = 5\n",
      "dt = 2\n",
      "dt = 1\n"
     ]
    }
   ],
   "source": [
    "diffgrid = numpy.empty_like(dt_values)\n",
    "\n",
    "for i, dt in enumerate(dt_values):\n",
    "    print('dt = {}'.format(dt))\n",
    "\n",
    "    ### call the function get_diffgrid() ###\n",
    "    diffgrid[i] = get_diffgrid(u_values[i], u_values[-1], dt)"
   ]
  },
  {
   "cell_type": "code",
   "execution_count": 77,
   "metadata": {
    "collapsed": false
   },
   "outputs": [
    {
     "data": {
      "image/png": "[encoded data removed]",
      "text/plain": [
       "<matplotlib.figure.Figure at 0x7fb658e06518>"
      ]
     },
     "metadata": {},
     "output_type": "display_data"
    }
   ],
   "source": [
    "# log-log plot of the grid differences\n",
    "pyplot.figure(figsize=(6,6))\n",
    "pyplot.grid(True)\n",
    "pyplot.xlabel('$\\Delta t$', fontsize=18)\n",
    "pyplot.ylabel('$L_1$-norm of the grid differences', fontsize=18)\n",
    "pyplot.axis('equal')\n",
    "pyplot.loglog(dt_values[:-1], diffgrid[:-1], color='k', ls='-', lw=2, marker='o');"
   ]
  },
  {
   "cell_type": "markdown",
   "metadata": {},
   "source": [
    "Nous calculons maintenant l'ordre de convergence p donné par:\n",
    "\n",
    "$$p = \\frac{\\log(\\frac{f3−f2}{f2−f1})}{log(r)}$$\n",
    "\n",
    "Où f1 est la solution la plus fine, et f3 la plus grossière."
   ]
  },
  {
   "cell_type": "code",
   "execution_count": 82,
   "metadata": {
    "collapsed": false
   },
   "outputs": [
    {
     "name": "stdout",
     "output_type": "stream",
     "text": [
      "l'ordre de convergence est p = 3.993\n"
     ]
    }
   ],
   "source": [
    "r = 2\n",
    "dt =150\n",
    "\n",
    "dt_values2 = numpy.array([dt, r*dt, r**2*dt])\n",
    "\n",
    "u_values2 = numpy.empty_like(dt_values2, dtype=numpy.ndarray)\n",
    "\n",
    "diffgrid2 = numpy.empty(2)\n",
    "\n",
    "for i, dt in enumerate(dt_values2):\n",
    "    \n",
    "    N = int(T/dt) + 1   # nombre de pas \n",
    "\n",
    "    # initialize the array containing the solution for each time-step\n",
    "    u = numpy.empty((N, 4))\n",
    "    u[0] = numpy.array([x_0, vx_0, y_0, vy_0])\n",
    "\n",
    "    # time loop\n",
    "    for n in range(N-1):\n",
    "\n",
    "        u[n+1] = RK4(f, u[n],  dt)         ### call RK4 ###\n",
    "    \n",
    "    # store the value of u related to one grid\n",
    "    u_values2[i] = u\n",
    "    \n",
    "\n",
    "#calculate f2 - f1\n",
    "diffgrid2[0] = get_diffgrid(u_values2[1], u_values2[0], dt_values2[1])\n",
    "\n",
    "#calculate f3 - f2\n",
    "diffgrid2[1] = get_diffgrid(u_values2[2], u_values2[1], dt_values2[2])\n",
    "\n",
    "# calculate the order of convergence\n",
    "p = (log(diffgrid2[1]) - log(diffgrid2[0])) / log(r)\n",
    "\n",
    "print(\"l'ordre de convergence est p = {:.3f}\".format(p));"
   ]
  },
  {
   "cell_type": "markdown",
   "metadata": {},
   "source": [
    "On remarque que l'ordre de la méthode numérique est 4 de plus on remarque que si l'on prend un pas trop faible, la précision de la méthode numérique employée empeche d'évaluer la convergence "
   ]
  },
  {
   "cell_type": "markdown",
   "metadata": {},
   "source": [
    "### Question 5: calcul de la trajectoire d'un astéroïde\n",
    "Les consignes pour cette question sont de trouver la position d'un astéroïde qui n'influence pas la trajectoire du système Lune-Terre après 14 jours sachant que cet astéroïde passe au centre de l'éllipse Lune-Terre avec pour vitesse $$(v_{x},v_{y})=(-500,500)ms^{-1}$$ \n",
    "\n",
    "Ainsi nous donnons les valeurs initiales aux problèmes ci dessous.\n"
   ]
  },
  {
   "cell_type": "code",
   "execution_count": 88,
   "metadata": {
    "collapsed": true
   },
   "outputs": [],
   "source": [
    "#initial values asteroid and moon \n",
    "xa_0=21066278.5295\n",
    "ya_0=0\n",
    "vxa_0=-500\n",
    "vya_0=500\n",
    "\n",
    "xl_0=404732557.059\n",
    "yl_0=418.8353377\n",
    "vxl_0=0.00106283312789\n",
    "vyl_0=-970.653250202\n",
    "\n",
    "cc=6.67408*10**(-11)*(5.972*10**24+7.348*10**22)  #G*(Mt+ml)\n",
    "k=6.67408*10**(-11)*5.972*10**24   #G*Mt\n",
    "p=6.67408*10**(-11)*7.348*10**22   #G*ml\n"
   ]
  },
  {
   "cell_type": "markdown",
   "metadata": {},
   "source": [
    "En utilisant le même raisonnement suivi à la **Question 1 **(étant donné que l'astéroïde ne modifie pas sa trajectoire), nous définissons ci dessous la fonction qui nous permet de calculer la trajectoire de la lune."
   ]
  },
  {
   "cell_type": "code",
   "execution_count": 89,
   "metadata": {
    "collapsed": true
   },
   "outputs": [],
   "source": [
    "# fu pour lune appogée\n",
    "def g(u):\n",
    "    \n",
    "    x = u[0]\n",
    "    vx = u[1]\n",
    "    y = u[2]\n",
    "    vy = u[3]\n",
    "    return numpy.array([vx, \n",
    "                        -cc*x/(x*x+y*y)**(3/2), \n",
    "                        vy, \n",
    "                        -cc*y/(x*x+y*y)**(3/2)])"
   ]
  },
  {
   "cell_type": "markdown",
   "metadata": {},
   "source": [
    "Ci dessous nous définissons la fonction qui va nous permettre de calculer la trajectoire de l'astéroïde,\n",
    "sachant que l'astéroïde n'influence pas la trajectoire du système Terre-Lune nous pouvons supposer que sa masse est négligeable et donc le référentiel du centre de masse reste inchangée par rapport à la **Question 1 **, à partir de ça nous pouvons donc trouver aisément les équations de mouvement pour l'astéroïde en terme de coordonnées (x,y).\n",
    "$$\\vec{w}=\\begin{pmatrix}\n",
    "   x_{s}  \\\\\n",
    "  v_{xs}  \\\\\n",
    "   y_{s} \\\\\n",
    " v_{ys}\n",
    "  \\end{pmatrix}$$ \n",
    "  $$\\frac{\\vec{dw}}{dt} = \\begin{pmatrix}\n",
    "  v_{xs} \\\\\n",
    "  \\frac{-Gm_{T}x_{s}}{(x_{s}^2+y_{s}^2)^\\frac{3}{2}} - \\frac{Gm_{L}(x_{s}-x_{L})}{((x_{s}-x_{L})^2+(y_{s}-y_{L})^2)^\\frac{3}{2}} \\\\\n",
    "  v_{ys} \\\\\n",
    "  \\frac{-Gm_{T}y_{s}}{(x_{s}^2+y_{s}^2)^\\frac{3}{2}} - \\frac{Gm_{L}(y_{s}-y_{L})}{((x_{s}-x_{L})^2+(y_{s}-y_{L})^2)^\\frac{3}{2}} \\\\\n",
    "  \\end{pmatrix} $$"
   ]
  },
  {
   "cell_type": "code",
   "execution_count": 90,
   "metadata": {
    "collapsed": true
   },
   "outputs": [],
   "source": [
    "# fu pour l'astéroïde\n",
    "def h(w):\n",
    "    \n",
    "    xa = w[0]\n",
    "    vxa = w[1]\n",
    "    ya = w[2]\n",
    "    vya = w[3]\n",
    "    return numpy.array([vxa, \n",
    "                        (-k*xa/(xa*xa+ya*ya)**(3/2))-(p*(xa-u_rk[i,0])/((xa-u_rk[i,0])**2+(ya-u_rk[i,2])**2)**(3/2)), \n",
    "                        vya, \n",
    "                        (-k*ya/(xa*xa+ya*ya)**(3/2))-(p*(ya-u_rk[i,2])/((xa-u_rk[i,0])**2+(ya-u_rk[i,2])**2)**(3/2))])"
   ]
  },
  {
   "cell_type": "markdown",
   "metadata": {},
   "source": [
    "Nous implémentons maintenant la cellule qui va dessiner le graphique et calculer la trajectoire de l'astéroïde.\n",
    "Pour cela nous fixons le nombre d'itérations à la valeur demandée( 14 jours)\n",
    "ensuite on initialise une liste vide de dimension 4, ensuite on ajoute les premières valeurs qui sont les valeurs initiales et après on utilise RK4 pour obtenir la position dans un premier de la Lune et ensuite nous recommençons de la même manière mais cette fois ci avec les valeurs initiales de l'astéroïde.\n",
    "Ce qui nous permet donc de calculer sa position.\n",
    "Et enfin nous créons un graphique qui a pour axe (la position x de l'astéroïde, la position y de l'astéroïde)"
   ]
  },
  {
   "cell_type": "code",
   "execution_count": 91,
   "metadata": {
    "collapsed": false
   },
   "outputs": [
    {
     "name": "stdout",
     "output_type": "stream",
     "text": [
      "[  2.10662785e+07   2.10657781e+07   2.10652767e+07 ...,  -2.35645539e+11\n",
      "  -2.35645806e+11  -2.35646073e+11]\n"
     ]
    },
    {
     "data": {
      "image/png": "[encoded data removed]",
      "text/plain": [
       "<matplotlib.figure.Figure at 0x7fb658c468d0>"
      ]
     },
     "metadata": {},
     "output_type": "display_data"
    }
   ],
   "source": [
    "TT=14*24*60*60  # Temps calculé en s\n",
    "dtt=1           # pas de temps en s\n",
    "NN=int(TT/dtt+1)# nombre d'itérations\n",
    "u_rk = numpy.empty((NN,4)) #initialise la liste de longueur NN de dim 4\n",
    "u_rk[0]   = numpy.array([xl_0, vxl_0, yl_0, vyl_0])# implémente les valeurs initiales  dans la liste\n",
    "for i in range(NN-1): # Calcule les valeurs (x,vx,y,vy) à l'aide de la méthode de Runge-Kutta d'ordre 4\n",
    "    u_rk[i+1]=RK4(g, u_rk[i],dtt)\n",
    "\n",
    "w_rk=numpy.empty((NN,4))   #initialise la liste de longueur NN de dim 4\n",
    "w_rk[0] = numpy.array([xa_0, vxa_0, ya_0, vya_0])  # implémente les valeurs initiales dans la liste\n",
    "for i in range(NN-1):      # Calcule les valeurs (x,vx,y,vy) à l'aide de la méthode de Runge-Kutta d'ordre 4\n",
    "        w_rk[i+1]=RK4(h, w_rk[i], dtt)\n",
    "    \n",
    "print(w_rk[:,0])    \n",
    "plt.xlabel(r'x(m)', fontsize=18)\n",
    "plt.ylabel(r'y(m)', fontsize=18)\n",
    "plt.title(\"Evolution de la trajectoire de l'astéroïde\", fontsize=13)\n",
    "plt.plot(w_rk[:,0],w_rk[:,2])\n",
    "plt.xlim(-0.5e7,2.5e7)\n",
    "plt.ylim(-2e6,2e6)\n",
    "plt.show()\n",
    "plt.close()\n"
   ]
  },
  {
   "cell_type": "markdown",
   "metadata": {},
   "source": [
    "### Question 6: animation des trajectoires"
   ]
  },
  {
   "cell_type": "markdown",
   "metadata": {},
   "source": [
    "\n",
    "\n",
    "nous implémentons un graphe vide aux échelles souhaitées et ajoutons des axes, ensuite nous crééons une ligne qui évoluera à chaque itération.\n",
    "comme la commande ax.plot peut retourné plusieurs valeurs nous écrivons [0] de manière à être sûr qu'elle nous renvoit une ligne, la ligne \"0\".\n"
   ]
  },
  {
   "cell_type": "code",
   "execution_count": 17,
   "metadata": {
    "collapsed": false
   },
   "outputs": [
    {
     "data": {
      "image/png": "[encoded data removed]",
      "text/plain": [
       "<matplotlib.figure.Figure at 0x7fb660107160>"
      ]
     },
     "metadata": {},
     "output_type": "display_data"
    }
   ],
   "source": [
    "fig = pyplot.figure(figsize=(8,5))\n",
    "ax = pyplot.axes(xlim=(-2e6,2e6), ylim=(-0.5e7,2.5e7))\n",
    "line = ax.plot([], [], color='#003366', ls='-', lw=3)[0]"
   ]
  },
  {
   "cell_type": "markdown",
   "metadata": {},
   "source": [
    "Cette fonction est créé de manière à incrémenté les données de la ligne des solutions à chaque itération."
   ]
  },
  {
   "cell_type": "code",
   "execution_count": 18,
   "metadata": {
    "collapsed": true
   },
   "outputs": [],
   "source": [
    "def RK4_data2(data) :\n",
    "    \n",
    "    line.set_data(w_rk[i,0],w_rk[i,2])\n"
   ]
  },
  {
   "cell_type": "markdown",
   "metadata": {},
   "source": [
    "Nous sauvegardons l'animation sous le nom de anim qui a pour argument le nom du graphique, la fonction, le nombre d'images, le temps d'apparition de l'image en ms."
   ]
  },
  {
   "cell_type": "code",
   "execution_count": 28,
   "metadata": {
    "collapsed": true
   },
   "outputs": [],
   "source": [
    "anim2 = animation.FuncAnimation(fig, RK4_data2,\n",
    "                               frames=400, interval=1)"
   ]
  },
  {
   "cell_type": "markdown",
   "metadata": {},
   "source": [
    "On utilise HTML que l'on a importé et html5_video() pour la rendre compatible avec le web."
   ]
  },
  {
   "cell_type": "code",
   "execution_count": 20,
   "metadata": {
    "collapsed": false
   },
   "outputs": [
    {
     "data": {
      "text/html": [
       "<video width=\"576.0\" height=\"360.0\" controls autoplay loop>\n",
       "  <source type=\"video/mp4\" src=\"data:video/mp4;base64,AAAAHGZ0eXBNNFYgAAACAGlzb21pc28yYXZjMQAAAAhmcmVlAABJE21kYXQAAAKuBgX//6rcRem9\n",
       "5tlIt5Ys2CDZI+7veDI2NCAtIGNvcmUgMTQ4IHIyNjQzIDVjNjU3MDQgLSBILjI2NC9NUEVHLTQg\n",
       "QVZDIGNvZGVjIC0gQ29weWxlZnQgMjAwMy0yMDE1IC0gaHR0cDovL3d3dy52aWRlb2xhbi5vcmcv\n",
       "eDI2NC5odG1sIC0gb3B0aW9uczogY2FiYWM9MSByZWY9MyBkZWJsb2NrPTE6MDowIGFuYWx5c2U9\n",
       "MHgzOjB4MTEzIG1lPWhleCBzdWJtZT03IHBzeT0xIHBzeV9yZD0xLjAwOjAuMDAgbWl4ZWRfcmVm\n",
       "PTEgbWVfcmFuZ2U9MTYgY2hyb21hX21lPTEgdHJlbGxpcz0xIDh4OGRjdD0xIGNxbT0wIGRlYWR6\n",
       "b25lPTIxLDExIGZhc3RfcHNraXA9MSBjaHJvbWFfcXBfb2Zmc2V0PS0yIHRocmVhZHM9NiBsb29r\n",
       "YWhlYWRfdGhyZWFkcz0xIHNsaWNlZF90aHJlYWRzPTAgbnI9MCBkZWNpbWF0ZT0xIGludGVybGFj\n",
       "ZWQ9MCBibHVyYXlfY29tcGF0PTAgY29uc3RyYWluZWRfaW50cmE9MCBiZnJhbWVzPTMgYl9weXJh\n",
       "bWlkPTIgYl9hZGFwdD0xIGJfYmlhcz0wIGRpcmVjdD0xIHdlaWdodGI9MSBvcGVuX2dvcD0wIHdl\n",
       "aWdodHA9MiBrZXlpbnQ9MjUwIGtleWludF9taW49MjUgc2NlbmVjdXQ9NDAgaW50cmFfcmVmcmVz\n",
       "aD0wIHJjX2xvb2thaGVhZD00MCByYz1jcmYgbWJ0cmVlPTEgY3JmPTIzLjAgcWNvbXA9MC42MCBx\n",
       "cG1pbj0wIHFwbWF4PTY5IHFwc3RlcD00IGlwX3JhdGlvPTEuNDAgYXE9MToxLjAwAIAAABF/ZYiE\n",
       "ACf//vWxfApqyfOKDOgyLuGXJMmutiLibQDAAAADAAADAAW09jGBG/4AKOJ1L24/JF2/Bo10RI92\n",
       "79vdku48k4qK1lH+DP68qQ1lZ9I0VNMIXzpYLX0gsub/177lou+zZI690PUmAiYuIcAlX0RZn795\n",
       "gpJS+X7+SuDQLvsV5o6XYMU/aKzyB8dmTGYIjGQlTsZCu1O1Rg8Do+lKq2ocoljWdqMvGu9DkZl3\n",
       "THxTPA9vEJ1xGWvlw0xQSfln7XVKonbtgjmNjoxbr02USbUTsxoD5U+bCPNyvgrdPoXW2wkBJXAA\n",
       "AAMAADO4x0gyPfVbBOEu80kpY8IODW/snUSMdyEL3ENvxGmbUfZoBxODJzZ6ydnG+1clOZEtDMPD\n",
       "7GnWwNCmEaGMyWx3NYee0lVUJBFQu0DBkg5x7V6BMOYsi+qYTVIEY26oMD80lEqYEZVEETZNRiXS\n",
       "+g1oW95MuWvfJO/lw11/YTEFD7NND3lI19qEyNz/loHfJvCRf6+wCOPzKVf0kNE9IMfCw6xSb/5O\n",
       "hIXbpzF7gZM/o/QRSUg/9qm0NaS6cEkD9m3vYulYjYc37LZDQKNWscml/x90TNKfiYYe/81M1Fee\n",
       "IBJttZrUUBBtNZL8bGQgvcg04tMoNwtkFwKrf8QcQbxNGlIW6d/8DchMxFu3LaDtFS0F2EOzBqS5\n",
       "wM/KrH3v5/EsXoNt6OimUl6achCtFMpE9Qf0SmXsOQHN5qECI4X3yi1ywVnTOAu4osDoMhTPDdEb\n",
       "GoAAA1/E/P7RzYOpf7G7yXN80j4ZsrsUs1ZK12yptwpSMb+BFiXC1mOOqwy9+aZcUIgd5WgSgEJk\n",
       "Hop3VIEOUJ5yEX+mmpxmq7jyDlhFndrA8Bw/Z81+1belQgABFGXB95wj+bXDZXC4Vq9w6YpgBskN\n",
       "hz3eywUNRRC9TcoL8Vgw4tP0kDHKoqGTDBz0EbQokFj6PKwX7luDUtMIUugfoM7I55DSsh7fHa4f\n",
       "lmUzZxcqJzp7p3qLn+PsES3tpbUXEgZmy5oonT4AOAABcpi1KIW9b96llPV2iCxLzGroG4WAADF4\n",
       "hgqlm3xgPPu+ID+26n8Y3t3NW0G3B//14pLQU+YQH8Up3EhdeZBHL9brp2bi46tCJqQfClVVPcPx\n",
       "uWMX1e+QotMh6syN9GYwwggCGNB3OiqV01glr8GQFJSv+PcJ/RaLlVip6cGrCF24HlFQzzvALtOL\n",
       "3wrxVWKaA1s8p/wVET7XyOhEL4GSoqXK9K34XlxE4OFdAIa05IlMCp0zRWhFYr68mwYt7vDQyIB4\n",
       "nQAPDjo9r///siVuEsKTQqXkOoZ+bAEyTGMXD/L9NVlsi73fm1KjjMxknFn0/vjVQzih/OcvIQv9\n",
       "UMlGlwDdj5XsJNyJvnSdwfe5JmE85WfoO1E1mFubxfKATiypM31au+Y/TxQOzuN/eGQfOFoFLOEh\n",
       "/vUZIfITS1fPp8Vb2HcBxHiqN8ErO2qSjBK0p84dLlkP7bDY+YXLr+THhCAML19V/El+IElogem8\n",
       "VF9xmQBs6m0i0joXuqHZq6ovZHPs2q5IwB+JnJoN5492XDyYn8iQkmlOP58cTJdFk9zEO1rNrtlJ\n",
       "SejD9fZi1biFQrJqppOKq1OO/Y+aV0Hx8C925j4t7uyXJHvPcN8wZqbL6C4QME0bIomA1+VPG3iV\n",
       "nwzm3hvMR9thEqZoApxWfaLD5KeJCxeLz2HJ8nsyQzTmmw9ZHkAAe90S2aiH8DhS/iFp+hL2iAzj\n",
       "LQgAUcM1v+woKA2lLvBFVJSOYyhHrgXO2THNwlfqteW0n7HlT4Gh5K+pMAx5/ItyMtuJBHrTYmED\n",
       "VsAdhxBHSYAJ+mkaZqzifG/a4Ph68/nGoyqRkpKlQa1FRspyQdh/G2wMi3W3Z+9sHQErgHpMYICh\n",
       "QkCt6ffGUQWsy9J7J/csj/SrCHNgU4XPnf5n0o86ajvcD6A4Zfo/O0JujNp1NiTn66b2DiFQqwt9\n",
       "K9Sd2/qk3wBraAoVZd6rAjAeJnJtqtRg2N2Lu2EXgK72GkB4lAEr9UW8ou/K9OKGKi84p+OQnoCO\n",
       "9uRAIu2Zqf1TldVAEwK/+9jkMDX7rfyqiClJuLiMvChZ+dXiJrubMBXOi3YNvEbAJ1rhDgDZKBzv\n",
       "LhWMT/ZQXtOTEMS/Sn4o1+ONJVuW97djY6vBF66BgySsNiW0uYRSHGfof+50E1n/Frn5d589khtc\n",
       "0oZhCIZTCyekzyjQeT7ZdF/j6vInY2KoeYt15zA1AheTDjZ/YVs3AxAay+m6Jxgq2zShQX1/3U2l\n",
       "qENJuFQhsNzt4gw5KP5zAn42t2DgPko8a5wWinmhwJt/TrNP4wIbU7M3U7n9LMXwVMjs4hNrTz7g\n",
       "Yeu4xqri8f91ygoS0camr6Fac4/Q/KxzRCjsSEEhKhinRgvcVq+QSDdBuh5DB7HWHMBh/8sAvoV+\n",
       "DDO2j7wtCG3G7V3aXtV941yqAM3qjyd+vWclNKS0KCMZS627StYLfubuRh9Pkb+q4skItnU0x6vx\n",
       "YH8rlnWkIVG2JpHzF4HW8DGY/4tNy9NZP2P/xewnX/wj/qhT9oqDDmz0iyfY6F55aoS8cS+UaNmu\n",
       "Bm1ZR8jXRSUOxFJlz+4jSvgnuHvDyJkf+NskXW5Gw6pN83uLH86ocaY6ITN7O3wYEKdVnvpevBmk\n",
       "6GhdeNoQX9pWVC84vbStK9wXyAwY+7svE9QC+ypo1+qjQVEnP/6Z1n/s3lO8yJ5rejj0ayR7tiFT\n",
       "XYRoS+AgmbFQSRj1/cbH7fDtCOxawWuifBQtrm0e8mQHShr2QG3QPk3V6DK5NTZYrGcaU34EgiuK\n",
       "keFsEPEqgCEvPkCnIpiRs1UiLDMmOsHzmHfwd880P8zg2m4E2ZrAu6MNWKR7coRilyIX4/HgGlGB\n",
       "9uXxfwi61DZ4jUOzYy28bO54v6vDP8s9BPgQrgZbPXt8cEJyW1f8ihYNZJ8je4qEr8ndBds1jeh2\n",
       "wTelmS56MPyBjBk3tTMeKgE/wBGb6S6cSFbRST/wRJFFzhIMuB2+0HgM35FcBOcPVLg/hNf1uLGm\n",
       "WbxI07TB5O6ITiVHQOg1jdtJ1+nqUmEUHmfyBeZ8bo/Dcy4G+7mI8QA/w3atFw1W/hX5aPtZhFhE\n",
       "vWs5aUQMdMdH+N6f+5woJEDe1hkNRdxFejgUWg6rd4qGP4nn6eZJDowrd+4XG2kLd1Y9R5q9U7ir\n",
       "hQGa/j4Xw7NuMo2pewR3FHdsNcVIDLQ2JA+Id0e6J5HeFN/rVVl38PhMTJpDPsG6kL/yhMj4cwoQ\n",
       "blAlxjFQqXtnWtnlmLKCdgbnwfUWOswF6dy7HRIBqhWyAQEXibxPb6bkwtzr96d4jKrzs5zaG+8e\n",
       "oDfcJsR7Ez5yGQxXaBWrPxWMRRQQg7be10poFan2JnE9fvrrCCuG46+EiMnq4aMKeBW1xm/47e/L\n",
       "2z9HxRkhBNSleqCHxvwXUr9RI/gW8NhGdMKUS7e+PJ+T9xrKlo3sCf/jcru2vKdcTtzxdBb2VTHE\n",
       "CnmazUwH/LZjPLcDG4mlPOh1Yn0CdMnreS/EfMyMJemx1SUv3IYel95wfW8xgaT7NdA7BW4FpF1F\n",
       "i3yWo8nS+lk3ot28oszAWLaJcFdIqC8yAE1pYrbWEfUDQTtxqh6SS8mSO+z0BA2ApiOAfAyUnqME\n",
       "y0nx4DGcjEhI3gb/ccl+9I6zNH2rewtaN5V1LVycat4TEUYSr9HgXAbEh1quprhX8plUd2Fi+WA7\n",
       "dQoZD4dzV7qnU1fa1/vM8Q4jLEkchRd2dV2/7x9mVJBrzr1Gic2a7DP2W9XKAi3Nr6KDVvWCwxse\n",
       "NXVPeKnAg+GZwhmiMi+kVVS28be2lwhknW25FvH8qu2n1Pl8l1hSFw3vLwa2qHpGfOWtV18bpWQ3\n",
       "pV5zU+/4Qg6fIXLHaOpG5lC47/YPNn+guUyo2Vh50O28YWas7ylZ1sw72mUGK/7lfnnNSz63YhKR\n",
       "57jAus0NWOW8k9B2L4x0F/TkQMT9kbj8zR8vwWx94CU/M4FG3h55TGKZEuvU3k8un7oGSLz/yA8v\n",
       "z/YMvg6duUUeRkIMv51n/YEsYuw6Sh4Wl4Uwl7Bqt32MeZ1D/xI26lZzUebnNINFPquApu3E1Ff3\n",
       "Nq4QfQdjP2XcPys1Wh6+znJwCQMzm6k/v3OYfAkkNMBYanglo73A3dw7iSosNXEOL6ZDppMEeyJd\n",
       "Dza5s4btcCEC7Blb91p3f8LnmYHqxeays5w8QG4AE1HHWc7j5gHvlIJARebPF/jKssWayAgTjhk2\n",
       "21UaIKeJo7t5O3Q7rsp5wrYZ50jxVHwPSESBwVlH8cCPX2ib1GSR2zWbdyauVpkfwykVfqF+SGuT\n",
       "awqwJNnbJOm1DeR+Cg8aWaXsIo844O+oEk54E5L9w0BN+xAgIhw2+psaIVUVtC9IgkK2wVtlHRrn\n",
       "3WLaKp9Jcn+fVe68TeeadGCeiWNmSRKjgw0T1qzFZk/hnB+msD1/3dmb1r5sCqnFnaYRprAEt4/7\n",
       "Fsi0ePtIfBsQu0IR6wuPbrZiGbu3sMRGFb5KqYXXXte24AqHNEPRgYNNSLp/2wQs0HTqJFRGFfKO\n",
       "NLGeL2/aFbqm/omchXhnBcX3xHjIfN5TH3MrbRzZ2O4qj649JUFMna7FbwJxu295CzQwgWFOBtLD\n",
       "/HAdqC5sf65Wk1UrA/XFc9QFlykykbePRWrL5SkRQIRvx/xRjPRb+tlYKfdoiLI1r2zchwQAOk4/\n",
       "kEeXM87FKicrR2gTU3dkvbU6WPEH013p5dtf9PL5RnfSVsbALNMb3M9Ou8O2Yj0H6i7Qpw6AQ7ux\n",
       "BslXAE1qdpILkgygVm5nb+l7NvcNP7bjR8f3rnHnc0G5Su6mcmTHjv/QlqhGocrxEMC+Hs1RDyGG\n",
       "qfoggRUAQIpwnK1g1rbrtmL0yBkdvRweU3SPogPKmmGA+V21RJ59kualKl1oSXKLwYueoeEmFPOZ\n",
       "/HSbCkBTrmB9fvkRNIZFBzH/eMl32fvS9M4TPlNF9hsC7mtnRKpUBjqpEix20VNI4TuGWVTbAwD7\n",
       "/YqMCK3/d5/wqaozcuKQiJpNc6l5AAblKv699FJ3bGWC91bp69OvxQg4VhYi3uc61CxcNV3xocuV\n",
       "RVVThOxuHZByTnG2wfihTl2YfVEn6yqM7HVzXbiAD4uHWZil27sgoe+t2ESxbeGcZKpQX7pL0bSt\n",
       "lj6vF+oGk3Ebl5ndAyJdaSZiCY8lzNymVe0htN2ZM6zYpKu0eP0EUuSVla/OAUzFkIoDr3fgH6YQ\n",
       "gw9E1tRf+A1OJUAOJhrTAjUlHzXKLfbQZJwFVVu2AJjPR2x6erZmMI20fRChMOarUoZHg2yC6TJ6\n",
       "60A5nBjd0Luzu6L7Pzbv3ddL3lvs4l0qHt/THXdPGT1u0h/qmQ+FKDQ/Ngbx+7EqetNmcaOE5TAA\n",
       "v4nm+yJYeNCRzVhvfK+d7mDQnSX6+qklVEQ6uL+wzgWLbPZSaz3r1btdeN9aKOLpBm5jvSEhjva6\n",
       "cFOMfzQnO7hAg7hmY2Ws8dYcfgK273tAlK0b8UaDl83NFgA1aYi0iuFq/txDtqPEDgtUe0mOb3yp\n",
       "LCCR41jrWvKC7cGyTRuKOhgqAVtJI9zfdXxMm/ckaK/+2t14r26lK2DFzDDXaP1QpHZS0PRm/CKF\n",
       "P0j2LsiGoSD9FDlPsOq7biHbloLOyR3mxKiaTabQLoDYTR2mCLzgDbFWix9P9Zu8alMOvqwRriTs\n",
       "we9hczdErS0o3ExopD6fF5s6L3P807RtSDPLoMooGdOvvShktyFA6CfyYUiVsHDPhW1uTYx6O78g\n",
       "ppQU0sv/Z1eg4wePe8OZqTq1pvEcbDsj6KQ8d4BEp14LusLD8yDNZzHebJfr9S/3AFBnAzhe4ORw\n",
       "WnyoTQImKbXaj2GG68LMzgaHJGMeZpSBkRg1Jg56PvqvJdHfQdIeSlHYaWV8jPxpo4/TNuZq4Esk\n",
       "ybjSBbnnmRsYzBzOTU+VVSnqFwAAAwC/ykABvwIrAAAAUEGaJGxCf/3xAK1wD7qd46RGbZMACZuf\n",
       "vOR/nF/XlNprZ2WTFrMDZkdcLTZOLIdx/PAm/jBWVhe2GRojY6bDzUvR79Xnre/a46NG2h36H6+A\n",
       "AAAAHkGeQniN/wEFZvW6zn5X8VJek1h0OrQqGqlcHVoi4QAAABcBnmF0Rf8BT9dQhdhOLdIEs+lC\n",
       "LvHCXgAAABgBnmNqRf8BQzYDCwt5+THVJYgdQo0gl4EAAAAlQZpoSahBaJlMCE///fEAJs1w0Txp\n",
       "c+Tq4q/7yb8lqbPF+UhqQQAAABZBnoZFESxvAPLNySLrUZpuhafqPpXhAAAAEwGepXRF/wE1JOkZ\n",
       "+NYM9dMiCXkAAAANAZ6nakX/AAADAAA7oAAAABdBmqxJqEFsmUwIT//98QAmzXCpAAAHtAAAABBB\n",
       "nspFFSxvAAADACn1rk2pAAAADQGe6XRF/wAAAwAAO6AAAAANAZ7rakX/AAADAAA7oAAAABZBmvBJ\n",
       "qEFsmUwIT//98QAAAwAAAwLLAAAAEEGfDkUVLG8AAAMAKfWuTakAAAANAZ8tdEX/AAADAAA7oQAA\n",
       "AA0Bny9qRf8AAAMAADugAAAAFkGbNEmoQWyZTAhP//3xAAADAAADAsoAAAAQQZ9SRRUsbwAAAwAp\n",
       "9a5NqQAAAA0Bn3F0Rf8AAAMAADugAAAADQGfc2pF/wAAAwAAO6AAAAAWQZt4SahBbJlMCE///fEA\n",
       "AAMAAAMCywAAABBBn5ZFFSxvAAADACn1rk2oAAAADQGftXRF/wAAAwAAO6EAAAANAZ+3akX/AAAD\n",
       "AAA7oQAAABZBm7xJqEFsmUwIT//98QAAAwAAAwLKAAAAEEGf2kUVLG8AAAMAKfWuTakAAAANAZ/5\n",
       "dEX/AAADAAA7oAAAAA0Bn/tqRf8AAAMAADuhAAAAFkGb4EmoQWyZTAhP//3xAAADAAADAssAAAAQ\n",
       "QZ4eRRUsbwAAAwAp9a5NqAAAAA0Bnj10Rf8AAAMAADugAAAADQGeP2pF/wAAAwAAO6EAAAAWQZok\n",
       "SahBbJlMCE///fEAAAMAAAMCygAAABBBnkJFFSxvAAADACn1rk2pAAAADQGeYXRF/wAAAwAAO6AA\n",
       "AAANAZ5jakX/AAADAAA7oQAAABZBmmhJqEFsmUwIT//98QAAAwAAAwLLAAAAEEGehkUVLG8AAAMA\n",
       "KfWuTakAAAANAZ6ldEX/AAADAAA7oQAAAA0BnqdqRf8AAAMAADugAAAAFkGarEmoQWyZTAhP//3x\n",
       "AAADAAADAsoAAAAQQZ7KRRUsbwAAAwAp9a5NqQAAAA0Bnul0Rf8AAAMAADugAAAADQGe62pF/wAA\n",
       "AwAAO6AAAAAWQZrwSahBbJlMCE///fEAAAMAAAMCywAAABBBnw5FFSxvAAADACn1rk2pAAAADQGf\n",
       "LXRF/wAAAwAAO6EAAAANAZ8vakX/AAADAAA7oAAAABZBmzRJqEFsmUwIT//98QAAAwAAAwLKAAAA\n",
       "EEGfUkUVLG8AAAMAKfWuTakAAAANAZ9xdEX/AAADAAA7oAAAAA0Bn3NqRf8AAAMAADugAAAAFkGb\n",
       "eEmoQWyZTAhP//3xAAADAAADAssAAAAQQZ+WRRUsbwAAAwAp9a5NqAAAAA0Bn7V0Rf8AAAMAADuh\n",
       "AAAADQGft2pF/wAAAwAAO6EAAAAWQZu8SahBbJlMCE///fEAAAMAAAMCygAAABBBn9pFFSxvAAAD\n",
       "ACn1rk2pAAAADQGf+XRF/wAAAwAAO6AAAAANAZ/7akX/AAADAAA7oQAAABZBm+BJqEFsmUwIT//9\n",
       "8QAAAwAAAwLLAAAAEEGeHkUVLG8AAAMAKfWuTagAAAANAZ49dEX/AAADAAA7oAAAAA0Bnj9qRf8A\n",
       "AAMAADuhAAAAFkGaJEmoQWyZTAhP//3xAAADAAADAsoAAAAQQZ5CRRUsbwAAAwAp9a5NqQAAAA0B\n",
       "nmF0Rf8AAAMAADugAAAADQGeY2pF/wAAAwAAO6EAAAAWQZpoSahBbJlMCE///fEAAAMAAAMCywAA\n",
       "ABBBnoZFFSxvAAADACn1rk2pAAAADQGepXRF/wAAAwAAO6EAAAANAZ6nakX/AAADAAA7oAAAABZB\n",
       "mqxJqEFsmUwIT//98QAAAwAAAwLKAAAAEEGeykUVLG8AAAMAKfWuTakAAAANAZ7pdEX/AAADAAA7\n",
       "oAAAAA0BnutqRf8AAAMAADugAAAAFkGa8EmoQWyZTAhP//3xAAADAAADAssAAAAQQZ8ORRUsbwAA\n",
       "AwAp9a5NqQAAAA0Bny10Rf8AAAMAADuhAAAADQGfL2pF/wAAAwAAO6AAAAAWQZs0SahBbJlMCE//\n",
       "/fEAAAMAAAMCygAAABBBn1JFFSxvAAADACn1rk2pAAAADQGfcXRF/wAAAwAAO6AAAAANAZ9zakX/\n",
       "AAADAAA7oAAAABZBm3hJqEFsmUwIT//98QAAAwAAAwLLAAAAEEGflkUVLG8AAAMAKfWuTagAAAAN\n",
       "AZ+1dEX/AAADAAA7oQAAAA0Bn7dqRf8AAAMAADuhAAAAFkGbvEmoQWyZTAhP//3xAAADAAADAsoA\n",
       "AAAQQZ/aRRUsbwAAAwAp9a5NqQAAAA0Bn/l0Rf8AAAMAADugAAAADQGf+2pF/wAAAwAAO6EAAAAW\n",
       "QZvgSahBbJlMCE///fEAAAMAAAMCywAAABBBnh5FFSxvAAADACn1rk2oAAAADQGePXRF/wAAAwAA\n",
       "O6AAAAANAZ4/akX/AAADAAA7oQAAABZBmiRJqEFsmUwIT//98QAAAwAAAwLKAAAAEEGeQkUVLG8A\n",
       "AAMAKfWuTakAAAANAZ5hdEX/AAADAAA7oAAAAA0BnmNqRf8AAAMAADuhAAAAFkGaaEmoQWyZTAhP\n",
       "//3xAAADAAADAssAAAAQQZ6GRRUsbwAAAwAp9a5NqQAAAA0BnqV0Rf8AAAMAADuhAAAADQGep2pF\n",
       "/wAAAwAAO6AAAAAWQZqsSahBbJlMCE///fEAAAMAAAMCygAAABBBnspFFSxvAAADACn1rk2pAAAA\n",
       "DQGe6XRF/wAAAwAAO6AAAAANAZ7rakX/AAADAAA7oAAAABZBmvBJqEFsmUwIT//98QAAAwAAAwLL\n",
       "AAAAEEGfDkUVLG8AAAMAKfWuTakAAAANAZ8tdEX/AAADAAA7oQAAAA0Bny9qRf8AAAMAADugAAAA\n",
       "FkGbNEmoQWyZTAhP//3xAAADAAADAsoAAAAQQZ9SRRUsbwAAAwAp9a5NqQAAAA0Bn3F0Rf8AAAMA\n",
       "ADugAAAADQGfc2pF/wAAAwAAO6AAAAAWQZt4SahBbJlMCE///fEAAAMAAAMCywAAABBBn5ZFFSxv\n",
       "AAADACn1rk2oAAAADQGftXRF/wAAAwAAO6EAAAANAZ+3akX/AAADAAA7oQAAABZBm7xJqEFsmUwI\n",
       "T//98QAAAwAAAwLKAAAAEEGf2kUVLG8AAAMAKfWuTakAAAANAZ/5dEX/AAADAAA7oAAAAA0Bn/tq\n",
       "Rf8AAAMAADuhAAAAFkGb4EmoQWyZTAhP//3xAAADAAADAssAAAAQQZ4eRRUsbwAAAwAp9a5NqAAA\n",
       "AA0Bnj10Rf8AAAMAADugAAAADQGeP2pF/wAAAwAAO6EAAAAWQZokSahBbJlMCE///fEAAAMAAAMC\n",
       "ygAAABBBnkJFFSxvAAADACn1rk2pAAAADQGeYXRF/wAAAwAAO6AAAAANAZ5jakX/AAADAAA7oQAA\n",
       "ABZBmmhJqEFsmUwIT//98QAAAwAAAwLLAAAAEEGehkUVLG8AAAMAKfWuTakAAAANAZ6ldEX/AAAD\n",
       "AAA7oQAAAA0BnqdqRf8AAAMAADugAAAAFkGarEmoQWyZTAhP//3xAAADAAADAsoAAAAQQZ7KRRUs\n",
       "bwAAAwAp9a5NqQAAAA0Bnul0Rf8AAAMAADugAAAADQGe62pF/wAAAwAAO6AAAAAWQZrwSahBbJlM\n",
       "CE///fEAAAMAAAMCywAAABBBnw5FFSxvAAADACn1rk2pAAAADQGfLXRF/wAAAwAAO6EAAAANAZ8v\n",
       "akX/AAADAAA7oAAAABZBmzRJqEFsmUwIT//98QAAAwAAAwLKAAAAEEGfUkUVLG8AAAMAKfWuTakA\n",
       "AAANAZ9xdEX/AAADAAA7oAAAAA0Bn3NqRf8AAAMAADugAAAAFkGbeEmoQWyZTAhP//3xAAADAAAD\n",
       "AssAAAAQQZ+WRRUsbwAAAwAp9a5NqAAAAA0Bn7V0Rf8AAAMAADuhAAAADQGft2pF/wAAAwAAO6EA\n",
       "AAAWQZu8SahBbJlMCE///fEAAAMAAAMCygAAABBBn9pFFSxvAAADACn1rk2pAAAADQGf+XRF/wAA\n",
       "AwAAO6AAAAANAZ/7akX/AAADAAA7oQAAABZBm+BJqEFsmUwIT//98QAAAwAAAwLLAAAAEEGeHkUV\n",
       "LG8AAAMAKfWuTagAAAANAZ49dEX/AAADAAA7oAAAAA0Bnj9qRf8AAAMAADuhAAAAFkGaJEmoQWyZ\n",
       "TAhP//3xAAADAAADAsoAAAAQQZ5CRRUsbwAAAwAp9a5NqQAAAA0BnmF0Rf8AAAMAADugAAAADQGe\n",
       "Y2pF/wAAAwAAO6EAAAAWQZpoSahBbJlMCE///fEAAAMAAAMCywAAABBBnoZFFSxvAAADACn1rk2p\n",
       "AAAADQGepXRF/wAAAwAAO6EAAAANAZ6nakX/AAADAAA7oAAAABZBmqxJqEFsmUwIT//98QAAAwAA\n",
       "AwLKAAAAEEGeykUVLG8AAAMAKfWuTakAAAANAZ7pdEX/AAADAAA7oAAAAA0BnutqRf8AAAMAADug\n",
       "AAAAFkGa8EmoQWyZTAhP//3xAAADAAADAssAAAAQQZ8ORRUsbwAAAwAp9a5NqQAAAA0Bny10Rf8A\n",
       "AAMAADuhAAAADQGfL2pF/wAAAwAAO6AAAAAWQZs0SahBbJlMCE///fEAAAMAAAMCygAAABBBn1JF\n",
       "FSxvAAADACn1rk2pAAAADQGfcXRF/wAAAwAAO6AAAAANAZ9zakX/AAADAAA7oAAAABZBm3hJqEFs\n",
       "mUwIT//98QAAAwAAAwLLAAAAEEGflkUVLG8AAAMAKfWuTagAAAANAZ+1dEX/AAADAAA7oQAAAA0B\n",
       "n7dqRf8AAAMAADuhAAAAFkGbvEmoQWyZTAhP//3xAAADAAADAsoAAAAQQZ/aRRUsbwAAAwAp9a5N\n",
       "qQAAAA0Bn/l0Rf8AAAMAADugAAAADQGf+2pF/wAAAwAAO6EAAAAWQZvgSahBbJlMCE///fEAAAMA\n",
       "AAMCywAAABBBnh5FFSxvAAADACn1rk2oAAAADQGePXRF/wAAAwAAO6AAAAANAZ4/akX/AAADAAA7\n",
       "oQAAABZBmiRJqEFsmUwIT//98QAAAwAAAwLKAAAAEEGeQkUVLG8AAAMAKfWuTakAAAANAZ5hdEX/\n",
       "AAADAAA7oAAAAA0BnmNqRf8AAAMAADuhAAAAFkGaaEmoQWyZTAhP//3xAAADAAADAssAAAAQQZ6G\n",
       "RRUsbwAAAwAp9a5NqQAAAA0BnqV0Rf8AAAMAADuhAAAADQGep2pF/wAAAwAAO6AAAAAWQZqsSahB\n",
       "bJlMCE///fEAAAMAAAMCygAAABBBnspFFSxvAAADACn1rk2pAAAADQGe6XRF/wAAAwAAO6AAAAAN\n",
       "AZ7rakX/AAADAAA7oAAAABZBmvBJqEFsmUwIT//98QAAAwAAAwLLAAAAEEGfDkUVLG8AAAMAKfWu\n",
       "TakAAAANAZ8tdEX/AAADAAA7oQAAAA0Bny9qRf8AAAMAADugAAAAFkGbNEmoQWyZTAhP//3xAAAD\n",
       "AAADAsoAAAAQQZ9SRRUsbwAAAwAp9a5NqQAAAA0Bn3F0Rf8AAAMAADugAAAADQGfc2pF/wAAAwAA\n",
       "O6AAAAAWQZt4SahBbJlMCE///fEAAAMAAAMCywAAABBBn5ZFFSxvAAADACn1rk2oAAAADQGftXRF\n",
       "/wAAAwAAO6EAAAANAZ+3akX/AAADAAA7oQAAABZBm7xJqEFsmUwIT//98QAAAwAAAwLKAAAAEEGf\n",
       "2kUVLG8AAAMAKfWuTakAAAANAZ/5dEX/AAADAAA7oAAAAA0Bn/tqRf8AAAMAADuhAAAAFkGb4Emo\n",
       "QWyZTAhP//3xAAADAAADAssAAAAQQZ4eRRUsbwAAAwAp9a5NqAAAAA0Bnj10Rf8AAAMAADugAAAA\n",
       "DQGeP2pF/wAAAwAAO6EAAAAWQZokSahBbJlMCE///fEAAAMAAAMCygAAABBBnkJFFSxvAAADACn1\n",
       "rk2pAAAADQGeYXRF/wAAAwAAO6AAAAANAZ5jakX/AAADAAA7oQAAABZBmmhJqEFsmUwIT//98QAA\n",
       "AwAAAwLLAAAAEEGehkUVLG8AAAMAKfWuTakAAAANAZ6ldEX/AAADAAA7oQAAAA0BnqdqRf8AAAMA\n",
       "ADugAAAAFkGarEmoQWyZTAhP//3xAAADAAADAsoAAAAQQZ7KRRUsbwAAAwAp9a5NqQAAAA0Bnul0\n",
       "Rf8AAAMAADugAAAADQGe62pF/wAAAwAAO6AAAAAWQZrwSahBbJlMCE///fEAAAMAAAMCywAAABBB\n",
       "nw5FFSxvAAADACn1rk2pAAAADQGfLXRF/wAAAwAAO6EAAAANAZ8vakX/AAADAAA7oAAAABZBmzRJ\n",
       "qEFsmUwIT//98QAAAwAAAwLKAAAAEEGfUkUVLG8AAAMAKfWuTakAAAANAZ9xdEX/AAADAAA7oAAA\n",
       "AA0Bn3NqRf8AAAMAADugAAAAFkGbeEmoQWyZTAhP//3xAAADAAADAssAAAAQQZ+WRRUsbwAAAwAp\n",
       "9a5NqAAAAA0Bn7V0Rf8AAAMAADuhAAAADQGft2pF/wAAAwAAO6EAAAAUQZu5SahBbJlMCL/6WAAA\n",
       "AwAAIWAAABO9ZYiCAAz//vbsvgU1/Z/QlxEsxdpKcD4qpICAdzTAAAADAAADAACG7KT+BsfzAUc/\n",
       "RYTc+3NwcFCAkB8tMjnwjsZT2oiO9YIM+g7kejbM3O8njXkf8cq4+IVmpMIXS3+T8TPvmDgP8z5N\n",
       "nyoAHy7gN5ANHGdSpNoo3gfXEVQ7v0dK7SO0IyE0GCCjZf8Oe3Kwm1uc/6oqowj1Zt5AEtdZUc44\n",
       "/Fs91Y2YDztm593IPayxH+C/fxDF9ndeji18nbFCj2MVuttByztMJOnFHmtZ/tZAgptnkWyDs1tm\n",
       "7tI7rl4d8B0eBVKtt1K83ZBW9knoK5aFIFRG3c6WiLkul1+EAAADAAAmRQOkGUK3xleao7623QFo\n",
       "YGje5dFhrfALtaGZ28RZj2yBcWR8ssjXjKZUuvJrGodUM5p+HPh2R5N/hfSZFlodWxONIWfdfR/D\n",
       "TyBYJ7tPSlzgiNNp2ZGaM5k+xVIXb4yFPO9qXc3m11pvahvPme3AseDKaMj0ivhoyLu/rKwVfNii\n",
       "MWJtC/htTIwJwzssb049C+gI+FD8yS6VGPachpO0X1SyvnFsndcI+fCVb6E10U30GUutxtFojMXF\n",
       "YE0amasOfKu8iPYCcppd43QjrwPT5vcCkrdtl8vwsaQ9tGQDbtR7IzLdLV0XDe/877cK4nyO1NDa\n",
       "hKropJeQsVzF/3m4TEXslMJL3FeO2xq7d9GaZ6DIy7kRVG2UKcpXAVKtrLblrc3v+VniR/d4vvN+\n",
       "snAgFK4H7BXvpGd9xJl5crxG9wz0BLMnqgUgdQ3E04ryblyn26lfJqOQ/l+dT5dBM7aoQfmVIiOz\n",
       "6kxf7QUNpFKACCFjb6ekPPX3fMYB7Ac7wnHtP1qKLk3xDUgOUA9r/NHTNons1mu263Eo/LdMpGCU\n",
       "gJN1smNdfzdh/ozhmTwx6l9QkBuWPLJph4/EDfsBgwuHm9S6hISHThTnzcmeQlznNIpyN1AAU333\n",
       "cCHuSVoJI8Upid1aU+OiNn3NfBYAABa3h0zXqUc4Yrh4HA6i3TG2W3td6zD17yqsLlys35skyysS\n",
       "IUew8mJyeDdeeJLL8LuusUFChDomvEBRkeFRPGt8FJ85ZT+9re+A+FAPR5oTHxA83sL5hRIpVho8\n",
       "W13GRq0V7PdeMVRa7nosAHVgYVWd91BRduv9JWzgAANBACWa3A3kXnsMr5zVvCnJVXhr/GLmAABF\n",
       "nCD4pHHaC6l9Ag0gN9MuzBtqEWeRQbaxJamm7v1NXHmycoDKHs/cC4xclFK9POjthnInmKQxURCB\n",
       "W+4eR3rHC0Mp/C9QAYJn31mrD+hfOAAqsvCxFNFF9B3Rno363gS+/AanAfanThmqKVOZroTFxclG\n",
       "gUEx28L1OnNg1GknCcbRs+8vsMd8FRLGYU0/AXYoknH7C8NrRYYlH4VA0Zv9Zp56kcloyTKRdmfm\n",
       "TEE4zuQy1uYiAnZ5TlbxQiX2f+dXcARWNS1nqCSQo2SoKlaS5g2aj7Zk6M6Ac52tDEFYPBkXnFS5\n",
       "tgLVk839fj41A1eLNo+NXXUxSBJn/8B2T/50s2z50oT60ll2bGjRDmZeAtY/6cjRvmnkEHkUDpU6\n",
       "jSHpw1jsimzev6ILXVsIXQNQuAAEa+oSEvX0mDlDvfOOEJFnxPQBkBvff8jKWolmeo5PTU1Ft8Jm\n",
       "Flu3foKvQNRzs0RlhfU+d8+bIvKT4KGgkxp2DF+44NF+vrJnPDEhrbqMTd43p3/oAEWHgRqBpGq7\n",
       "OqWelRDBm/pxz212AD3uXr7X/ob75gJV1WbStYpnk5hXJGneM7f5a56V1RAB96M6eXTA4McHaBRY\n",
       "EqMiwFjsC4b2FOIld5D8hzKwAa9WpPh2ETQOTrPIkRcdMHn0/7UaiT7PQQRbRhLTpJR2IWBG7OLO\n",
       "2H/czgnJhBU4v3azM4GWTSJpiIOtclHd+WtHsYxzK8jdXR4VBlnAEHiH+FTdmCqaPLh+aL43cd7h\n",
       "ojGhSiHL47InEH5YbL6YzHsTfSpUoAQ6zhCGz/gYkLA3R1SSfJ7r6FUa4cXhsct9LLl53a2OwuXt\n",
       "T7sBOKrnkQAHJIoAauvnMb6DDOi6b1MrwACds+CSJLzD/tgj4M9Z9x+tNNEIR87CVHZC0GtPyuFT\n",
       "L53H5uibFlRJx/8MnXwv4ZlXUId1wfJWWAY8oGjgpFiMk8QJlr7LR1985b9cHNe+2/KvIPwSA4xj\n",
       "U9RQf4eVi2ENoxQMIT09KOULH0GFLoyqCHUwS/7/yPKThUkMncbDASscqHJtO86O5DdrlqGDgFW/\n",
       "BodL3C0kybHQe5mHFfLl45CfMwQNwqHlDYJ08Nr1t/5AtvX0EzhnxXbtj/PVSI6Y3xx6/P+Kx0R2\n",
       "btiNDOXHPgT3J6qh0l13v74sdj+JACTcUZeSgJMK4/D+mjHbVNyeeiqWRrNZq/LmV9kku+XEDRWS\n",
       "JsQdLuOCRMgY7/7bqDPeu92tP658KTyhfLUSDeEPtfOgIxZBkqV68p8IMocImZzH1yZzbSxviV6E\n",
       "eSamyjsAbpetYgDFuTE/Z8Y3W2WZbgNhTUAvIWZUzF3zVHRIsx1KNW3GEpHQip6TrCC+/3nvsnjJ\n",
       "3AksKiR/fMXly9w121wbGzdEFx0FHUEMQFpovypUoiVBwh9tmuxFSULnjQA6EHz7SbQtaMtDxAmk\n",
       "Mw5r9IKu6XA0nExQYEcFYP5biKjgtSZ5Vhvd4zO4XmXc482GAvMb0e0G6/0d5JbeVUOGXKw/U5XW\n",
       "/Q6ztSxkAEn0fW3ctJl4unFQJuF42JFEew4wVBpyMfC6CRuyZOASYqvob+d7567O7BXq5D/z9AuX\n",
       "kVlUnuEGmGIzoEs9skuaDpdDf1fgP3G41u14a/P/7iqdQ6C6VIalbgT3kGEkCB/4WkrPQlZ0Uqyo\n",
       "qZUZ6BRA6lc6RHcXYix4+etWWTD9fxSm2MxQQQ+9SraoJPBo8HThaKB9oxRinRxvL+PilbMNFYwj\n",
       "HIVjmqfYUfPIRYW1B7kmX0nQC0XtVI/+I8GQC038+0cL9AuDhGGF7GaVHKMVsidSJlHE9KS3hFSH\n",
       "L5OJpuUK2af43fXgivoduVJspXM2Jbk7j2S74iB6rRQxveTemL6gCnShK2FjOcfIptvAWmXn4zoy\n",
       "qwQUtqydd73ZD+DBLXUxe1Q4+Z+hL519J31NEs0hURbZhGe/AMp/2o5Q9RqsW5mALYWYOjh3HDFY\n",
       "f6WyZLXHhPjSdaRL47keuFuM3AgrVsFmxd1CW96hTkR5umzGVUvHlc62AuZpBF1DRGxSkXajan7F\n",
       "i9Ln3CKFtbqeya4FWKiFKp6Vv5z0wcBmX9NP1oC+HoaDzHC2nKp1S+BIsBUv8knyA1O2XZlNNlf4\n",
       "XkDUM+Q0ezV6PEYNyf9SpZauzGy5NLhYeeOAXiFJqYHloztSt+Kv7VUaGlc29rykbL83fCcljAVC\n",
       "lCSmLIRs7Vh7EQ+9DZOEJx+WsBtADglDiUpZJbREBXMUURb7rqgiJ8AXROy12wp4lMbJIR7uHYAZ\n",
       "g2gPLsmZ7Smu3SCTnNmrqx4LeomscwO81G9eN7pMFTy0cNkS1W34uaLEjZbyaUH5Um4AKLmx071w\n",
       "b+7gjsYIdIqSq+8qrMhzsOKsTJpARQoKL71Ens3JWOZJ3DIFldMKRA0qAnDt3lJ4aW6HGBOEzbVJ\n",
       "dQYT6RkIdzCBXfXJI8mH2ZnjJ6f+LnC4C4yzaZVehaJ4ueL5XZCPqtvW2E6op1kW63hCctHcB0zI\n",
       "Q3K+Iket7wc4HtyuUgRQVwKLnOBIbHk+HpH0eWeeFOzOvYMx3I/MRx6/o3nlIlmKpLFZK2llU+Ez\n",
       "xy1eEZn7AzBqTU4rfRE3yGbgqbsQ7oum01tXDJNwIQjIQkfD4gD2V53cU5OHh2nWRE0cP6UsNzhG\n",
       "wjl+GJAYmIaIAiuG+6Tl5ld+qoldc/673eDj41XzAwPPkFIcPf5BUunue0eUisqOkiwk4x7hjuhR\n",
       "U3jgUsKaHCLyT8IO3qXcWvTIJVce5b+cUR3bXx0n24wac6aqdPuXXzjZgDBUOwykAxIR0HvPmygH\n",
       "MqINQsKmVrkMq+r9MtZX/lGVIGqcEN1JGeCTr4baGkb9X46sMkbkUkMhE9fjLsVwalNktaBY0xOb\n",
       "T+Zf6D+p7xp5p3Y5doJKb9cowXcY8qYDGMWo1tctZzUBoTb+SJknS3tGk9iZkE8bEtR95g65M4WX\n",
       "K2vHveKXskJZADwImzteNruuCUK2JNcBiU8CXFnZZVIDyJe3uFCp769EqEkS0z9X2fhSfkMhQ2NP\n",
       "ZAdbPj4accpE8J9HRJBy4l9GEGgrmm9aZ8uiUe0WH+9mhXl809uHIe4OL3QKdVD75trM+dInE8Vq\n",
       "H0q/+oGbgVuZJQFtq3ecXpmHcrInB07iajBlh4QcG/jOa3rtgufwfqaieyqIeUQBcp8df5WO/pAQ\n",
       "XByDmv9Zqh9+drSHttVWjQ/Tfbziu1POHnOAX3eUJjDV2sGjnjZ4TmJxDlg5cV+TcgYQ7NoLH3kB\n",
       "fagIwBEHBlyOK75YIH1jsRA2QB095Yj2NusKC+Si6MioT+6KYujrqW1UWoeroMU2V/DRTDD4jcmW\n",
       "lKFWzXouqpN77vE1KrUudKkOSeNIq6u6DHd7G1zrmOSoKcHrJlrYTQ19go8yidLVL2E+GYx6rd+j\n",
       "0sL4/gA6dTKn3dgENokijU98JwRjjQkJE/mXuxP7iVqdVv0vym2KP5JvAQuLE/7OtBlomhSdnBdm\n",
       "Ule28VLgaRoUSTcbIRus4+pWyeidHK7yfZqg8l5iDQzYTwQYHD4yxul1RhD0YHtMNFmJtlZsq1ta\n",
       "fN61PFS3whWXS0uS9oU23+zP6Hmi/yQ8GiOffXaBcbcuUaueSwLCA7QqPyzKFcZnl3I0+Yng4edW\n",
       "t1sgswNsFGS1txxJB3q9Oocymk26VexTKKM94Uct61LR5ZSOaHR6x5X6xXhMofB74yQttAV2Zf1X\n",
       "VdrpmLDo3Br7/0Yri1zfHsFkVYr4I/2eHRyBKOuBC7VYnxVmXJzLC78fhWxwizjzs5hkOPgASrmv\n",
       "+EMHg9NPggUm1mogrBrC8oT+Kj6DvuRTH8ENWc2NmqLLmV4uSXX3e49Ojk33J9gkvPXdX95muvRt\n",
       "mV4k6FB20DIcTLD2zrXxtApv4RIGM6LfNCPbp4pckjHEQIC+mJhWFbvEn2Xzw3bNNHcIyZm2g+rc\n",
       "WJqdYncY7fZsfeKgiJajABb+ORS0EaCB4WLvTvFzEfxYdTX95vrAO3m4DZ0TUA5EJ/xInntPxUiu\n",
       "up7WPcokUHWNjcGrkCE4ljx8xjyjetPQazRDsPom39vR/+plKixbpDWmyxwWWAdKsk7FOg2b7i8E\n",
       "BJsNjq48C13Xgad76ZgyH5SVyM0mX9s/M0Oy9TGrF/ekPt4jpyw4tmStx6M5nn2bPV+mAOFe+Mvd\n",
       "GPAEJhO9W5CnO32Or5gOTns8ptZY0e2Jn1M90awb9004C5Ah1A1lDpkWoihZ1cLIeTHYPl0iqsXA\n",
       "06ycAg6S08XAbx7Jgk385BXIMZKnqg9dPICoOS1d8nVcGEeElVrwhaL/WlZsJyfF0rHMF5ajv44i\n",
       "C+QMJDL0xoIXjK8kUFl6lGuWlpiSXVbay/IL8WQd88mGrp9j0mSSkIZqTLA+fLdi3FXzVBpq1GRR\n",
       "d8QcrislTE5u/R4+NO4esv+WoSyh/CgIksI5+4r57ze1H+ChuP+7LIpCiiOgFI0TJRZnrylA1qcH\n",
       "quML1J581mTr4ShAgpAAWfsItwXAvWaeua/RgWvxmPQ5zEaNGhaMRzpZJcGMJb2dN88oXzKhz3Dp\n",
       "7JQg2vSTcbb+AkSZpUMxKqTYHEG+UVtXZ4eHLucdeGDmODSiz83X0GemHg2k4EdoDG1qKkCkx0DC\n",
       "J5mf+3YJJ2HHqPHJj2tO2NgfIJNPQvnFhQfZ4pA0sanJWZV49qU6V53cTHQ+WH8GJ+bnF/CiiNqV\n",
       "3njXbg27KbNqzsqENcNrPQ7zSiJeY2oozXOM+kW2A+AhRf60kg1X+nLCHvWWzEWxacEqtfzNA82h\n",
       "7vIY1RFxU4xVtFG8NMHF0Jotn4Hfu7nvlmGMD0Wa5G5wYq44muXyOwnbz51hnI9ns0E9UadbyT4I\n",
       "ColEO5AeKtS6X5CQGeVQSFSE5+BO+RxjSOUAl3caJJk0dSwqRBgozWjzAhaROkCDnyydZC1IvC8f\n",
       "k7oqOhmkmcgtwIDyguDNcc02agxkk92skhhq9X5h30O0IIM9OBeAcGn9UPLw0KkQZ8A3Ar9sVnDz\n",
       "Cms0SoTd+JY12lBqAa5qhEJ4rDj1j0g0xtfTyMoLa2TZJXX+UC4k01KBFBcJLkpoImkY8+qPZbt+\n",
       "5W1zJK/Atiq0PnBTwCeUdm2qC+0coj22iQmQHLl+RwL/BOCypDv5GBnL4pFfTcUTzP11jzhOHZuB\n",
       "dTav9uVb112g+j2zPJkNfj1k/Z68J8FV+uBDGud5x6Au6mtBgmRfLOFFFf4ZdXtyHCLQCA7KCzOp\n",
       "G1cNHpowSi9Q+PFQ7zmVwj21dS69XShjI4FplSD/aSk62Q7rpUjlKROq7cqUltehOp0b4DQu+iZw\n",
       "wy6KDRVt3RySewkiyBq+oKybqWE9nsnwCvamCrn1wCrc8FcG8ictc2a6IfaGzhd7jbP7OTf7hSpe\n",
       "XHfkGovv3lewPYGQmhkG89l7b/D3V65WPUoeiZpeOIK2l/RDKWOTeDSu7BsjMjtIu15rf9UA1wZr\n",
       "x4sZ2u9orwHBXRZQEktysTSTCtsIJc2XcXSITop+5fWoOx6AAAFBqQQAAd2B3wAAAEZBmiRsQn/9\n",
       "8QDJeboAbyLI7LvyL85RfK4azia3dpfOpGCk0h4NkC1nOJwFckj9uYroDKxGNnAPalQD0r0/Jzwu\n",
       "wBvSY+WwAAAAGUGeQniN/wEFb8QBeLKvDCDNEPKo4iLPXjEAAAAWAZ5hdEX/AU/cgwkfoxW7/PHE\n",
       "l8BMYQAAABEBnmNqRf8BR86sAAE6IrEYgAAAACpBmmhJqEFomUwIT//98QAO0W9q40pUAIFFlM+V\n",
       "YCuYBB/caDdn7q2vyVAAAAAVQZ6GRREsbwD9zUISDVwhZ5yTu69LAAAAEgGepXRF/wFG3/QAAa+x\n",
       "oBTAugAAABABnqdqRf8AAAMAAkQZNISBAAAAFkGarEmoQWyZTAhP//3xAAADAAADAsoAAAASQZ7K\n",
       "RRUsbwAAEFBIbJKlkG5hAAAAEAGe6XRF/wAAAwACRBk0hIEAAAAQAZ7rakX/AAADAAJEGTSEgQAA\n",
       "ABZBmvBJqEFsmUwIT//98QAAAwAAAwLLAAAAEkGfDkUVLG8AABBQSGySpZBuYAAAABABny10Rf8A\n",
       "AAMAAkQZNISAAAAAEAGfL2pF/wAAAwACRBk0hIEAAAAWQZs0SahBbJlMCE///fEAAAMAAAMCygAA\n",
       "ABJBn1JFFSxvAAAQUEhskqWQbmAAAAAQAZ9xdEX/AAADAAJEGTSEgQAAABABn3NqRf8AAAMAAkQZ\n",
       "NISBAAAAFkGbeEmoQWyZTAhP//3xAAADAAADAssAAAASQZ+WRRUsbwAAEFBIbJKlkG5gAAAAEAGf\n",
       "tXRF/wAAAwACRBk0hIAAAAAQAZ+3akX/AAADAAJEGTSEgQAAABZBm7xJqEFsmUwIT//98QAAAwAA\n",
       "AwLKAAAAEkGf2kUVLG8AABBQSGySpZBuYAAAABABn/l0Rf8AAAMAAkQZNISBAAAAEAGf+2pF/wAA\n",
       "AwACRBk0hIAAAAAWQZvgSahBbJlMCE///fEAAAMAAAMCywAAABJBnh5FFSxvAAAQUEhskqWQbmEA\n",
       "AAAQAZ49dEX/AAADAAJEGTSEgAAAABABnj9qRf8AAAMAAkQZNISBAAAAFkGaJEmoQWyZTAhP//3x\n",
       "AAADAAADAsoAAAASQZ5CRRUsbwAAEFBIbJKlkG5hAAAAEAGeYXRF/wAAAwACRBk0hIEAAAAQAZ5j\n",
       "akX/AAADAAJEGTSEgAAAABZBmmhJqEFsmUwIT//98QAAAwAAAwLKAAAAEkGehkUVLG8AABBQSGyS\n",
       "pZBuYQAAABABnqV0Rf8AAAMAAkQZNISAAAAAEAGep2pF/wAAAwACRBk0hIEAAAAWQZqsSahBbJlM\n",
       "CE///fEAAAMAAAMCygAAABJBnspFFSxvAAAQUEhskqWQbmEAAAAQAZ7pdEX/AAADAAJEGTSEgQAA\n",
       "ABABnutqRf8AAAMAAkQZNISBAAAAFkGa8EmoQWyZTAhP//3xAAADAAADAssAAAASQZ8ORRUsbwAA\n",
       "EFBIbJKlkG5gAAAAEAGfLXRF/wAAAwACRBk0hIAAAAAQAZ8vakX/AAADAAJEGTSEgQAAABZBmzRJ\n",
       "qEFsmUwIT//98QAAAwAAAwLKAAAAEkGfUkUVLG8AABBQSGySpZBuYAAAABABn3F0Rf8AAAMAAkQZ\n",
       "NISBAAAAEAGfc2pF/wAAAwACRBk0hIEAAAAWQZt4SahBbJlMCE///fEAAAMAAAMCywAAABJBn5ZF\n",
       "FSxvAAAQUEhskqWQbmAAAAAQAZ+1dEX/AAADAAJEGTSEgAAAABABn7dqRf8AAAMAAkQZNISBAAAA\n",
       "FkGbvEmoQWyZTAhP//3xAAADAAADAsoAAAASQZ/aRRUsbwAAEFBIbJKlkG5gAAAAEAGf+XRF/wAA\n",
       "AwACRBk0hIEAAAAQAZ/7akX/AAADAAJEGTSEgAAAABZBm+BJqEFsmUwIT//98QAAAwAAAwLLAAAA\n",
       "EkGeHkUVLG8AABBQSGySpZBuYQAAABABnj10Rf8AAAMAAkQZNISAAAAAEAGeP2pF/wAAAwACRBk0\n",
       "hIEAAAAWQZokSahBbJlMCE///fEAAAMAAAMCygAAABJBnkJFFSxvAAAQUEhskqWQbmEAAAAQAZ5h\n",
       "dEX/AAADAAJEGTSEgQAAABABnmNqRf8AAAMAAkQZNISAAAAAFkGaaEmoQWyZTAhP//3xAAADAAAD\n",
       "AsoAAAASQZ6GRRUsbwAAEFBIbJKlkG5hAAAAEAGepXRF/wAAAwACRBk0hIAAAAAQAZ6nakX/AAAD\n",
       "AAJEGTSEgQAAABZBmqxJqEFsmUwIT//98QAAAwAAAwLKAAAAEkGeykUVLG8AABBQSGySpZBuYQAA\n",
       "ABABnul0Rf8AAAMAAkQZNISBAAAAEAGe62pF/wAAAwACRBk0hIEAAAAWQZrwSahBbJlMCE///fEA\n",
       "AAMAAAMCywAAABJBnw5FFSxvAAAQUEhskqWQbmAAAAAQAZ8tdEX/AAADAAJEGTSEgAAAABABny9q\n",
       "Rf8AAAMAAkQZNISBAAAAFkGbNEmoQWyZTAhP//3xAAADAAADAsoAAAASQZ9SRRUsbwAAEFBIbJKl\n",
       "kG5gAAAAEAGfcXRF/wAAAwACRBk0hIEAAAAQAZ9zakX/AAADAAJEGTSEgQAAABZBm3hJqEFsmUwI\n",
       "T//98QAAAwAAAwLLAAAAEkGflkUVLG8AABBQSGySpZBuYAAAABABn7V0Rf8AAAMAAkQZNISAAAAA\n",
       "EAGft2pF/wAAAwACRBk0hIEAAAAWQZu8SahBbJlMCE///fEAAAMAAAMCygAAABJBn9pFFSxvAAAQ\n",
       "UEhskqWQbmAAAAAQAZ/5dEX/AAADAAJEGTSEgQAAABABn/tqRf8AAAMAAkQZNISAAAAAFkGb4Emo\n",
       "QWyZTAhP//3xAAADAAADAssAAAASQZ4eRRUsbwAAEFBIbJKlkG5hAAAAEAGePXRF/wAAAwACRBk0\n",
       "hIAAAAAQAZ4/akX/AAADAAJEGTSEgQAAABZBmiRJqEFsmUwIT//98QAAAwAAAwLKAAAAEkGeQkUV\n",
       "LG8AABBQSGySpZBuYQAAABABnmF0Rf8AAAMAAkQZNISBAAAAEAGeY2pF/wAAAwACRBk0hIAAAAAW\n",
       "QZpoSahBbJlMCE///fEAAAMAAAMCygAAABJBnoZFFSxvAAAQUEhskqWQbmEAAAAQAZ6ldEX/AAAD\n",
       "AAJEGTSEgAAAABABnqdqRf8AAAMAAkQZNISBAAAAFkGarEmoQWyZTAhP//3xAAADAAADAsoAAAAS\n",
       "QZ7KRRUsbwAAEFBIbJKlkG5hAAAAEAGe6XRF/wAAAwACRBk0hIEAAAAQAZ7rakX/AAADAAJEGTSE\n",
       "gQAAABZBmvBJqEFsmUwIT//98QAAAwAAAwLLAAAAEkGfDkUVLG8AABBQSGySpZBuYAAAABABny10\n",
       "Rf8AAAMAAkQZNISAAAAAEAGfL2pF/wAAAwACRBk0hIEAAAAWQZs0SahBbJlMCE///fEAAAMAAAMC\n",
       "ygAAABJBn1JFFSxvAAAQUEhskqWQbmAAAAAQAZ9xdEX/AAADAAJEGTSEgQAAABABn3NqRf8AAAMA\n",
       "AkQZNISBAAAAFkGbeEmoQWyZTAhP//3xAAADAAADAssAAAASQZ+WRRUsbwAAEFBIbJKlkG5gAAAA\n",
       "EAGftXRF/wAAAwACRBk0hIAAAAAQAZ+3akX/AAADAAJEGTSEgQAAABZBm7xJqEFsmUwIT//98QAA\n",
       "AwAAAwLKAAAAEkGf2kUVLG8AABBQSGySpZBuYAAAABABn/l0Rf8AAAMAAkQZNISBAAAAEAGf+2pF\n",
       "/wAAAwACRBk0hIAAAAAWQZvgSahBbJlMCE///fEAAAMAAAMCywAAABJBnh5FFSxvAAAQUEhskqWQ\n",
       "bmEAAAAQAZ49dEX/AAADAAJEGTSEgAAAABABnj9qRf8AAAMAAkQZNISBAAAAFkGaJEmoQWyZTAhP\n",
       "//3xAAADAAADAsoAAAASQZ5CRRUsbwAAEFBIbJKlkG5hAAAAEAGeYXRF/wAAAwACRBk0hIEAAAAQ\n",
       "AZ5jakX/AAADAAJEGTSEgAAAABZBmmhJqEFsmUwIT//98QAAAwAAAwLKAAAAEkGehkUVLG8AABBQ\n",
       "SGySpZBuYQAAABABnqV0Rf8AAAMAAkQZNISAAAAAEAGep2pF/wAAAwACRBk0hIEAAAAWQZqsSahB\n",
       "bJlMCE///fEAAAMAAAMCygAAABJBnspFFSxvAAAQUEhskqWQbmEAAAAQAZ7pdEX/AAADAAJEGTSE\n",
       "gQAAABABnutqRf8AAAMAAkQZNISBAAAAFUGa8EmoQWyZTAhH//3hAAADAAAEXQAAABJBnw5FFSxv\n",
       "AAAQUEhskqWQbmAAAAAQAZ8tdEX/AAADAAJEGTSEgAAAABABny9qRf8AAAMAAkQZNISBAAAAFEGb\n",
       "NEmoQWyZTAjf+lgAAAMAACFgAAAAEkGfUkUVLG8AABBQSGySpZBuYAAAABABn3F0Rf8AAAMAAkQZ\n",
       "NISBAAAAEAGfc2pF/wAAAwACRBk0hIEAAAAUQZt1SahBbJlMCL/6WAAAAwAAIWEAABXybW9vdgAA\n",
       "AGxtdmhkAAAAAAAAAAAAAAAAAAAD6AAAAY8AAQAAAQAAAAAAAAAAAAAAAAEAAAAAAAAAAAAAAAAA\n",
       "AAABAAAAAAAAAAAAAAAAAABAAAAAAAAAAAAAAAAAAAAAAAAAAAAAAAAAAAAAAAAAAgAAFRx0cmFr\n",
       "AAAAXHRraGQAAAADAAAAAAAAAAAAAAABAAAAAAAAAY8AAAAAAAAAAAAAAAAAAAAAAAEAAAAAAAAA\n",
       "AAAAAAAAAAABAAAAAAAAAAAAAAAAAABAAAAAAkAAAAFoAAAAAAAkZWR0cwAAABxlbHN0AAAAAAAA\n",
       "AAEAAAGPAAAAIAABAAAAABSUbWRpYQAAACBtZGhkAAAAAAAAAAAAAAAAAAA+gAAAGPBVxAAAAAAA\n",
       "LWhkbHIAAAAAAAAAAHZpZGUAAAAAAAAAAAAAAABWaWRlb0hhbmRsZXIAAAAUP21pbmYAAAAUdm1o\n",
       "ZAAAAAEAAAAAAAAAAAAAACRkaW5mAAAAHGRyZWYAAAAAAAAAAQAAAAx1cmwgAAAAAQAAE/9zdGJs\n",
       "AAAAs3N0c2QAAAAAAAAAAQAAAKNhdmMxAAAAAAAAAAEAAAAAAAAAAAAAAAAAAAAAAkABaABIAAAA\n",
       "SAAAAAAAAAABAAAAAAAAAAAAAAAAAAAAAAAAAAAAAAAAAAAAAAAAAAAAGP//AAAAMWF2Y0MBZAAz\n",
       "/+EAGGdkADOs2UCQL/lhAAADAAEAAAfQDxgxlgEABmjr48siwAAAABx1dWlka2hA8l8kT8W6OaUb\n",
       "zwMj8wAAAAAAAAAgc3R0cwAAAAAAAAACAAABjwAAABAAAAABAAAAAAAAABhzdHNzAAAAAAAAAAIA\n",
       "AAABAAAA+wAADIhjdHRzAAAAAAAAAY8AAAABAAAAIAAAAAEAAABQAAAAAQAAACAAAAABAAAAAAAA\n",
       "AAEAAAAQAAAAAQAAAFAAAAABAAAAIAAAAAEAAAAAAAAAAQAAABAAAAABAAAAUAAAAAEAAAAgAAAA\n",
       "AQAAAAAAAAABAAAAEAAAAAEAAABQAAAAAQAAACAAAAABAAAAAAAAAAEAAAAQAAAAAQAAAFAAAAAB\n",
       "AAAAIAAAAAEAAAAAAAAAAQAAABAAAAABAAAAUAAAAAEAAAAgAAAAAQAAAAAAAAABAAAAEAAAAAEA\n",
       "AABQAAAAAQAAACAAAAABAAAAAAAAAAEAAAAQAAAAAQAAAFAAAAABAAAAIAAAAAEAAAAAAAAAAQAA\n",
       "ABAAAAABAAAAUAAAAAEAAAAgAAAAAQAAAAAAAAABAAAAEAAAAAEAAABQAAAAAQAAACAAAAABAAAA\n",
       "AAAAAAEAAAAQAAAAAQAAAFAAAAABAAAAIAAAAAEAAAAAAAAAAQAAABAAAAABAAAAUAAAAAEAAAAg\n",
       "AAAAAQAAAAAAAAABAAAAEAAAAAEAAABQAAAAAQAAACAAAAABAAAAAAAAAAEAAAAQAAAAAQAAAFAA\n",
       "AAABAAAAIAAAAAEAAAAAAAAAAQAAABAAAAABAAAAUAAAAAEAAAAgAAAAAQAAAAAAAAABAAAAEAAA\n",
       "AAEAAABQAAAAAQAAACAAAAABAAAAAAAAAAEAAAAQAAAAAQAAAFAAAAABAAAAIAAAAAEAAAAAAAAA\n",
       "AQAAABAAAAABAAAAUAAAAAEAAAAgAAAAAQAAAAAAAAABAAAAEAAAAAEAAABQAAAAAQAAACAAAAAB\n",
       "AAAAAAAAAAEAAAAQAAAAAQAAAFAAAAABAAAAIAAAAAEAAAAAAAAAAQAAABAAAAABAAAAUAAAAAEA\n",
       "AAAgAAAAAQAAAAAAAAABAAAAEAAAAAEAAABQAAAAAQAAACAAAAABAAAAAAAAAAEAAAAQAAAAAQAA\n",
       "AFAAAAABAAAAIAAAAAEAAAAAAAAAAQAAABAAAAABAAAAUAAAAAEAAAAgAAAAAQAAAAAAAAABAAAA\n",
       "EAAAAAEAAABQAAAAAQAAACAAAAABAAAAAAAAAAEAAAAQAAAAAQAAAFAAAAABAAAAIAAAAAEAAAAA\n",
       "AAAAAQAAABAAAAABAAAAUAAAAAEAAAAgAAAAAQAAAAAAAAABAAAAEAAAAAEAAABQAAAAAQAAACAA\n",
       "AAABAAAAAAAAAAEAAAAQAAAAAQAAAFAAAAABAAAAIAAAAAEAAAAAAAAAAQAAABAAAAABAAAAUAAA\n",
       "AAEAAAAgAAAAAQAAAAAAAAABAAAAEAAAAAEAAABQAAAAAQAAACAAAAABAAAAAAAAAAEAAAAQAAAA\n",
       "AQAAAFAAAAABAAAAIAAAAAEAAAAAAAAAAQAAABAAAAABAAAAUAAAAAEAAAAgAAAAAQAAAAAAAAAB\n",
       "AAAAEAAAAAEAAABQAAAAAQAAACAAAAABAAAAAAAAAAEAAAAQAAAAAQAAAFAAAAABAAAAIAAAAAEA\n",
       "AAAAAAAAAQAAABAAAAABAAAAUAAAAAEAAAAgAAAAAQAAAAAAAAABAAAAEAAAAAEAAABQAAAAAQAA\n",
       "ACAAAAABAAAAAAAAAAEAAAAQAAAAAQAAAFAAAAABAAAAIAAAAAEAAAAAAAAAAQAAABAAAAABAAAA\n",
       "UAAAAAEAAAAgAAAAAQAAAAAAAAABAAAAEAAAAAEAAABQAAAAAQAAACAAAAABAAAAAAAAAAEAAAAQ\n",
       "AAAAAQAAAFAAAAABAAAAIAAAAAEAAAAAAAAAAQAAABAAAAABAAAAUAAAAAEAAAAgAAAAAQAAAAAA\n",
       "AAABAAAAEAAAAAEAAABQAAAAAQAAACAAAAABAAAAAAAAAAEAAAAQAAAAAQAAAFAAAAABAAAAIAAA\n",
       "AAEAAAAAAAAAAQAAABAAAAABAAAAUAAAAAEAAAAgAAAAAQAAAAAAAAABAAAAEAAAAAEAAABQAAAA\n",
       "AQAAACAAAAABAAAAAAAAAAEAAAAQAAAAAQAAAFAAAAABAAAAIAAAAAEAAAAAAAAAAQAAABAAAAAB\n",
       "AAAAUAAAAAEAAAAgAAAAAQAAAAAAAAABAAAAEAAAAAEAAABQAAAAAQAAACAAAAABAAAAAAAAAAEA\n",
       "AAAQAAAAAQAAAFAAAAABAAAAIAAAAAEAAAAAAAAAAQAAABAAAAABAAAAUAAAAAEAAAAgAAAAAQAA\n",
       "AAAAAAABAAAAEAAAAAEAAABQAAAAAQAAACAAAAABAAAAAAAAAAEAAAAQAAAAAQAAAFAAAAABAAAA\n",
       "IAAAAAEAAAAAAAAAAQAAABAAAAABAAAAUAAAAAEAAAAgAAAAAQAAAAAAAAABAAAAEAAAAAEAAABQ\n",
       "AAAAAQAAACAAAAABAAAAAAAAAAEAAAAQAAAAAQAAAFAAAAABAAAAIAAAAAEAAAAAAAAAAQAAABAA\n",
       "AAABAAAAUAAAAAEAAAAgAAAAAQAAAAAAAAABAAAAEAAAAAEAAABQAAAAAQAAACAAAAABAAAAAAAA\n",
       "AAEAAAAQAAAAAQAAAFAAAAABAAAAIAAAAAEAAAAAAAAAAQAAABAAAAABAAAAUAAAAAEAAAAgAAAA\n",
       "AQAAAAAAAAABAAAAEAAAAAEAAABQAAAAAQAAACAAAAABAAAAAAAAAAEAAAAQAAAAAQAAAFAAAAAB\n",
       "AAAAIAAAAAEAAAAAAAAAAQAAABAAAAACAAAAIAAAAAEAAABQAAAAAQAAACAAAAABAAAAAAAAAAEA\n",
       "AAAQAAAAAQAAAFAAAAABAAAAIAAAAAEAAAAAAAAAAQAAABAAAAABAAAAUAAAAAEAAAAgAAAAAQAA\n",
       "AAAAAAABAAAAEAAAAAEAAABQAAAAAQAAACAAAAABAAAAAAAAAAEAAAAQAAAAAQAAAFAAAAABAAAA\n",
       "IAAAAAEAAAAAAAAAAQAAABAAAAABAAAAUAAAAAEAAAAgAAAAAQAAAAAAAAABAAAAEAAAAAEAAABQ\n",
       "AAAAAQAAACAAAAABAAAAAAAAAAEAAAAQAAAAAQAAAFAAAAABAAAAIAAAAAEAAAAAAAAAAQAAABAA\n",
       "AAABAAAAUAAAAAEAAAAgAAAAAQAAAAAAAAABAAAAEAAAAAEAAABQAAAAAQAAACAAAAABAAAAAAAA\n",
       "AAEAAAAQAAAAAQAAAFAAAAABAAAAIAAAAAEAAAAAAAAAAQAAABAAAAABAAAAUAAAAAEAAAAgAAAA\n",
       "AQAAAAAAAAABAAAAEAAAAAEAAABQAAAAAQAAACAAAAABAAAAAAAAAAEAAAAQAAAAAQAAAFAAAAAB\n",
       "AAAAIAAAAAEAAAAAAAAAAQAAABAAAAABAAAAUAAAAAEAAAAgAAAAAQAAAAAAAAABAAAAEAAAAAEA\n",
       "AABQAAAAAQAAACAAAAABAAAAAAAAAAEAAAAQAAAAAQAAAFAAAAABAAAAIAAAAAEAAAAAAAAAAQAA\n",
       "ABAAAAABAAAAUAAAAAEAAAAgAAAAAQAAAAAAAAABAAAAEAAAAAEAAABQAAAAAQAAACAAAAABAAAA\n",
       "AAAAAAEAAAAQAAAAAQAAAFAAAAABAAAAIAAAAAEAAAAAAAAAAQAAABAAAAABAAAAUAAAAAEAAAAg\n",
       "AAAAAQAAAAAAAAABAAAAEAAAAAEAAABQAAAAAQAAACAAAAABAAAAAAAAAAEAAAAQAAAAAQAAAFAA\n",
       "AAABAAAAIAAAAAEAAAAAAAAAAQAAABAAAAABAAAAUAAAAAEAAAAgAAAAAQAAAAAAAAABAAAAEAAA\n",
       "AAEAAABQAAAAAQAAACAAAAABAAAAAAAAAAEAAAAQAAAAAQAAAFAAAAABAAAAIAAAAAEAAAAAAAAA\n",
       "AQAAABAAAAABAAAAUAAAAAEAAAAgAAAAAQAAAAAAAAABAAAAEAAAAAEAAABQAAAAAQAAACAAAAAB\n",
       "AAAAAAAAAAEAAAAQAAAAAQAAAFAAAAABAAAAIAAAAAEAAAAAAAAAAQAAABAAAAABAAAAUAAAAAEA\n",
       "AAAgAAAAAQAAAAAAAAABAAAAEAAAAAEAAABQAAAAAQAAACAAAAABAAAAAAAAAAEAAAAQAAAAAQAA\n",
       "AFAAAAABAAAAIAAAAAEAAAAAAAAAAQAAABAAAAABAAAAUAAAAAEAAAAgAAAAAQAAAAAAAAABAAAA\n",
       "EAAAAAEAAABQAAAAAQAAACAAAAABAAAAAAAAAAEAAAAQAAAAAQAAAFAAAAABAAAAIAAAAAEAAAAA\n",
       "AAAAAQAAABAAAAABAAAAUAAAAAEAAAAgAAAAAQAAAAAAAAABAAAAEAAAAAEAAABQAAAAAQAAACAA\n",
       "AAABAAAAAAAAAAEAAAAQAAAAAQAAACAAAAAcc3RzYwAAAAAAAAABAAAAAQAAAZAAAAABAAAGVHN0\n",
       "c3oAAAAAAAAAAAAAAZAAABQ1AAAAVAAAACIAAAAbAAAAHAAAACkAAAAaAAAAFwAAABEAAAAbAAAA\n",
       "FAAAABEAAAARAAAAGgAAABQAAAARAAAAEQAAABoAAAAUAAAAEQAAABEAAAAaAAAAFAAAABEAAAAR\n",
       "AAAAGgAAABQAAAARAAAAEQAAABoAAAAUAAAAEQAAABEAAAAaAAAAFAAAABEAAAARAAAAGgAAABQA\n",
       "AAARAAAAEQAAABoAAAAUAAAAEQAAABEAAAAaAAAAFAAAABEAAAARAAAAGgAAABQAAAARAAAAEQAA\n",
       "ABoAAAAUAAAAEQAAABEAAAAaAAAAFAAAABEAAAARAAAAGgAAABQAAAARAAAAEQAAABoAAAAUAAAA\n",
       "EQAAABEAAAAaAAAAFAAAABEAAAARAAAAGgAAABQAAAARAAAAEQAAABoAAAAUAAAAEQAAABEAAAAa\n",
       "AAAAFAAAABEAAAARAAAAGgAAABQAAAARAAAAEQAAABoAAAAUAAAAEQAAABEAAAAaAAAAFAAAABEA\n",
       "AAARAAAAGgAAABQAAAARAAAAEQAAABoAAAAUAAAAEQAAABEAAAAaAAAAFAAAABEAAAARAAAAGgAA\n",
       "ABQAAAARAAAAEQAAABoAAAAUAAAAEQAAABEAAAAaAAAAFAAAABEAAAARAAAAGgAAABQAAAARAAAA\n",
       "EQAAABoAAAAUAAAAEQAAABEAAAAaAAAAFAAAABEAAAARAAAAGgAAABQAAAARAAAAEQAAABoAAAAU\n",
       "AAAAEQAAABEAAAAaAAAAFAAAABEAAAARAAAAGgAAABQAAAARAAAAEQAAABoAAAAUAAAAEQAAABEA\n",
       "AAAaAAAAFAAAABEAAAARAAAAGgAAABQAAAARAAAAEQAAABoAAAAUAAAAEQAAABEAAAAaAAAAFAAA\n",
       "ABEAAAARAAAAGgAAABQAAAARAAAAEQAAABoAAAAUAAAAEQAAABEAAAAaAAAAFAAAABEAAAARAAAA\n",
       "GgAAABQAAAARAAAAEQAAABoAAAAUAAAAEQAAABEAAAAaAAAAFAAAABEAAAARAAAAGgAAABQAAAAR\n",
       "AAAAEQAAABoAAAAUAAAAEQAAABEAAAAaAAAAFAAAABEAAAARAAAAGgAAABQAAAARAAAAEQAAABoA\n",
       "AAAUAAAAEQAAABEAAAAaAAAAFAAAABEAAAARAAAAGgAAABQAAAARAAAAEQAAABoAAAAUAAAAEQAA\n",
       "ABEAAAAaAAAAFAAAABEAAAARAAAAGgAAABQAAAARAAAAEQAAABoAAAAUAAAAEQAAABEAAAAaAAAA\n",
       "FAAAABEAAAARAAAAGgAAABQAAAARAAAAEQAAABoAAAAUAAAAEQAAABEAAAAYAAATwQAAAEoAAAAd\n",
       "AAAAGgAAABUAAAAuAAAAGQAAABYAAAAUAAAAGgAAABYAAAAUAAAAFAAAABoAAAAWAAAAFAAAABQA\n",
       "AAAaAAAAFgAAABQAAAAUAAAAGgAAABYAAAAUAAAAFAAAABoAAAAWAAAAFAAAABQAAAAaAAAAFgAA\n",
       "ABQAAAAUAAAAGgAAABYAAAAUAAAAFAAAABoAAAAWAAAAFAAAABQAAAAaAAAAFgAAABQAAAAUAAAA\n",
       "GgAAABYAAAAUAAAAFAAAABoAAAAWAAAAFAAAABQAAAAaAAAAFgAAABQAAAAUAAAAGgAAABYAAAAU\n",
       "AAAAFAAAABoAAAAWAAAAFAAAABQAAAAaAAAAFgAAABQAAAAUAAAAGgAAABYAAAAUAAAAFAAAABoA\n",
       "AAAWAAAAFAAAABQAAAAaAAAAFgAAABQAAAAUAAAAGgAAABYAAAAUAAAAFAAAABoAAAAWAAAAFAAA\n",
       "ABQAAAAaAAAAFgAAABQAAAAUAAAAGgAAABYAAAAUAAAAFAAAABoAAAAWAAAAFAAAABQAAAAaAAAA\n",
       "FgAAABQAAAAUAAAAGgAAABYAAAAUAAAAFAAAABoAAAAWAAAAFAAAABQAAAAaAAAAFgAAABQAAAAU\n",
       "AAAAGgAAABYAAAAUAAAAFAAAABoAAAAWAAAAFAAAABQAAAAaAAAAFgAAABQAAAAUAAAAGgAAABYA\n",
       "AAAUAAAAFAAAABoAAAAWAAAAFAAAABQAAAAaAAAAFgAAABQAAAAUAAAAGQAAABYAAAAUAAAAFAAA\n",
       "ABgAAAAWAAAAFAAAABQAAAAYAAAAFHN0Y28AAAAAAAAAAQAAACwAAABidWR0YQAAAFptZXRhAAAA\n",
       "AAAAACFoZGxyAAAAAAAAAABtZGlyYXBwbAAAAAAAAAAAAAAAAC1pbHN0AAAAJal0b28AAAAdZGF0\n",
       "YQAAAAEAAAAATGF2ZjU2LjQwLjEwMQ==\n",
       "\">\n",
       "  Your browser does not support the video tag.\n",
       "</video>"
      ],
      "text/plain": [
       "<IPython.core.display.HTML object>"
      ]
     },
     "execution_count": 20,
     "metadata": {},
     "output_type": "execute_result"
    }
   ],
   "source": [
    "HTML(anim.to_html5_video())"
   ]
  },
  {
   "cell_type": "markdown",
   "metadata": {},
   "source": [
    "Nous avons remarqué que calculer l'animation prenait trop de temps, pour remédier à cela nous avons décider de prendre au maximum 3000 frames et de manière à obtenir toute la trajectoire, il faut que les données calculer par anim soit à chaque fois la 4032* i ème itération pour l'évolution de la trajectoire de l'astéroïde dans le système Terre-Lune\n",
    "\n",
    "Cependant nous n'avons pas réussi à finaliser l'animation "
   ]
  },
  {
   "cell_type": "markdown",
   "metadata": {},
   "source": [
    "# Référence :\n",
    "\n",
    "Chapitre 5: Mouvement dans un potentiel central, Mécanique analytique, Pierre Gaspard\n",
    "\n",
    "NumericalMooc: \n",
    "\n",
    "Module1: Phugoid Model\n",
    "\n",
    "Module2: Space and Time"
   ]
  },
  {
   "cell_type": "code",
   "execution_count": null,
   "metadata": {
    "collapsed": true
   },
   "outputs": [],
   "source": []
  }
 ],
 "metadata": {
  "anaconda-cloud": {},
  "kernelspec": {
   "display_name": "Python [Root]",
   "language": "python",
   "name": "Python [Root]"
  },
  "language_info": {
   "codemirror_mode": {
    "name": "ipython",
    "version": 3
   },
   "file_extension": ".py",
   "mimetype": "text/x-python",
   "name": "python",
   "nbconvert_exporter": "python",
   "pygments_lexer": "ipython3",
   "version": "3.4.5"
  }
 },
 "nbformat": 4,
 "nbformat_minor": 0
}
